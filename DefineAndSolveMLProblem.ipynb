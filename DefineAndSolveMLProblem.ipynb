{
 "cells": [
  {
   "cell_type": "markdown",
   "metadata": {},
   "source": [
    "# Lab 8: Define and Solve an ML Problem of Your Choosing"
   ]
  },
  {
   "cell_type": "code",
   "execution_count": 1,
   "metadata": {},
   "outputs": [],
   "source": [
    "import pandas as pd\n",
    "import numpy as np\n",
    "import os \n",
    "import matplotlib.pyplot as plt\n",
    "import seaborn as sns"
   ]
  },
  {
   "cell_type": "markdown",
   "metadata": {},
   "source": [
    "In this lab assignment, you will follow the machine learning life cycle and implement a model to solve a machine learning problem of your choosing. You will select a data set and choose a predictive problem that the data set supports.  You will then inspect the data with your problem in mind and begin to formulate a  project plan. You will then implement the machine learning project plan. \n",
    "\n",
    "You will complete the following tasks:\n",
    "\n",
    "1. Build Your DataFrame\n",
    "2. Define Your ML Problem\n",
    "3. Perform exploratory data analysis to understand your data.\n",
    "4. Define Your Project Plan\n",
    "5. Implement Your Project Plan:\n",
    "    * Prepare your data for your model.\n",
    "    * Fit your model to the training data and evaluate your model.\n",
    "    * Improve your model's performance."
   ]
  },
  {
   "cell_type": "markdown",
   "metadata": {},
   "source": [
    "## Part 1: Build Your DataFrame\n",
    "\n",
    "You will have the option to choose one of four data sets that you have worked with in this program:\n",
    "\n",
    "* The \"census\" data set that contains Census information from 1994: `censusData.csv`\n",
    "* Airbnb NYC \"listings\" data set: `airbnbListingsData.csv`\n",
    "* World Happiness Report (WHR) data set: `WHR2018Chapter2OnlineData.csv`\n",
    "* Book Review data set: `bookReviewsData.csv`\n",
    "\n",
    "Note that these are variations of the data sets that you have worked with in this program. For example, some do not include some of the preprocessing necessary for specific models. \n",
    "\n",
    "#### Load a Data Set and Save it as a Pandas DataFrame\n",
    "\n",
    "The code cell below contains filenames (path + filename) for each of the four data sets available to you.\n",
    "\n",
    "<b>Task:</b> In the code cell below, use the same method you have been using to load the data using `pd.read_csv()` and save it to DataFrame `df`. \n",
    "\n",
    "You can load each file as a new DataFrame to inspect the data before choosing your data set."
   ]
  },
  {
   "cell_type": "code",
   "execution_count": 2,
   "metadata": {},
   "outputs": [
    {
     "data": {
      "text/html": [
       "<div>\n",
       "<style scoped>\n",
       "    .dataframe tbody tr th:only-of-type {\n",
       "        vertical-align: middle;\n",
       "    }\n",
       "\n",
       "    .dataframe tbody tr th {\n",
       "        vertical-align: top;\n",
       "    }\n",
       "\n",
       "    .dataframe thead th {\n",
       "        text-align: right;\n",
       "    }\n",
       "</style>\n",
       "<table border=\"1\" class=\"dataframe\">\n",
       "  <thead>\n",
       "    <tr style=\"text-align: right;\">\n",
       "      <th></th>\n",
       "      <th>ID</th>\n",
       "      <th>topic</th>\n",
       "      <th>source</th>\n",
       "      <th>source_url</th>\n",
       "      <th>url</th>\n",
       "      <th>date</th>\n",
       "      <th>authors</th>\n",
       "      <th>title</th>\n",
       "      <th>content_original</th>\n",
       "      <th>content</th>\n",
       "      <th>bias_text</th>\n",
       "      <th>bias</th>\n",
       "    </tr>\n",
       "  </thead>\n",
       "  <tbody>\n",
       "    <tr>\n",
       "      <th>0</th>\n",
       "      <td>004Gt3gcsotuiYmz</td>\n",
       "      <td>terrorism</td>\n",
       "      <td>New York Times - News</td>\n",
       "      <td>www.nytimes.com</td>\n",
       "      <td>http://www.nytimes.com/2016/09/20/nyregion/ahm...</td>\n",
       "      <td>2016-09-20</td>\n",
       "      <td>N. R. Kleinfield</td>\n",
       "      <td>Bomb Suspect Changed After Trip Abroad, Friend...</td>\n",
       "      <td>Besides his most recent trip to Quetta, Mr. Ra...</td>\n",
       "      <td>Besides his most recent trip to Quetta , Mr. R...</td>\n",
       "      <td>left</td>\n",
       "      <td>0</td>\n",
       "    </tr>\n",
       "    <tr>\n",
       "      <th>1</th>\n",
       "      <td>00eP4XD3VdMmHITE</td>\n",
       "      <td>supreme_court</td>\n",
       "      <td>Vox</td>\n",
       "      <td>www.vox.com</td>\n",
       "      <td>https://www.vox.com/policy-and-politics/2018/9...</td>\n",
       "      <td>2018-09-12</td>\n",
       "      <td>Emily Stewart, Terry Nguyen, Rebecca Jennings,...</td>\n",
       "      <td>Why Susan Collins claims she’s being bribed ov...</td>\n",
       "      <td>Is Maine Republican Sen. Susan Collins being b...</td>\n",
       "      <td>Is Maine Republican Sen. Susan Collins being b...</td>\n",
       "      <td>left</td>\n",
       "      <td>0</td>\n",
       "    </tr>\n",
       "    <tr>\n",
       "      <th>2</th>\n",
       "      <td>00FTGIZEd6B8zQ4U</td>\n",
       "      <td>education</td>\n",
       "      <td>Ezra Klein</td>\n",
       "      <td>www.npr.org</td>\n",
       "      <td>http://www.npr.org/blogs/thetwo-way/2014/05/06...</td>\n",
       "      <td>2014-05-06</td>\n",
       "      <td>Anya Kamenetz</td>\n",
       "      <td>Poll: Prestigious Colleges Won't Make You Happ...</td>\n",
       "      <td>Poll: Prestigious Colleges Won't Make You Happ...</td>\n",
       "      <td>Poll : Prestigious Colleges Wo n't Make You Ha...</td>\n",
       "      <td>left</td>\n",
       "      <td>0</td>\n",
       "    </tr>\n",
       "    <tr>\n",
       "      <th>3</th>\n",
       "      <td>00HGGqBRf1kzPRlg</td>\n",
       "      <td>us_house</td>\n",
       "      <td>Breitbart News</td>\n",
       "      <td>www.breitbart.com</td>\n",
       "      <td>http://www.breitbart.com/big-government/2017/0...</td>\n",
       "      <td>2017-09-12</td>\n",
       "      <td>Ian Mason</td>\n",
       "      <td>Paul Ryan Reportedly Says No Chance for Border...</td>\n",
       "      <td>House Speaker Paul Ryan, at a private dinner e...</td>\n",
       "      <td>House Speaker Paul Ryan , at a private dinner ...</td>\n",
       "      <td>right</td>\n",
       "      <td>2</td>\n",
       "    </tr>\n",
       "    <tr>\n",
       "      <th>4</th>\n",
       "      <td>00IzI5ynahBVtC9l</td>\n",
       "      <td>white_house</td>\n",
       "      <td>Guest Writer - Left</td>\n",
       "      <td>www.cnn.com</td>\n",
       "      <td>https://www.cnn.com/2019/07/11/politics/donald...</td>\n",
       "      <td>2019-07-11</td>\n",
       "      <td>Analysis Stephen Collinson</td>\n",
       "      <td>OPINION: Trump seeking change of legal fortune...</td>\n",
       "      <td>(CNN) President Donald Trump has reason to hop...</td>\n",
       "      <td>( CNN ) President Donald Trump has reason to h...</td>\n",
       "      <td>left</td>\n",
       "      <td>0</td>\n",
       "    </tr>\n",
       "  </tbody>\n",
       "</table>\n",
       "</div>"
      ],
      "text/plain": [
       "                 ID          topic                 source         source_url  \\\n",
       "0  004Gt3gcsotuiYmz      terrorism  New York Times - News    www.nytimes.com   \n",
       "1  00eP4XD3VdMmHITE  supreme_court                    Vox        www.vox.com   \n",
       "2  00FTGIZEd6B8zQ4U      education             Ezra Klein        www.npr.org   \n",
       "3  00HGGqBRf1kzPRlg       us_house         Breitbart News  www.breitbart.com   \n",
       "4  00IzI5ynahBVtC9l    white_house    Guest Writer - Left        www.cnn.com   \n",
       "\n",
       "                                                 url        date  \\\n",
       "0  http://www.nytimes.com/2016/09/20/nyregion/ahm...  2016-09-20   \n",
       "1  https://www.vox.com/policy-and-politics/2018/9...  2018-09-12   \n",
       "2  http://www.npr.org/blogs/thetwo-way/2014/05/06...  2014-05-06   \n",
       "3  http://www.breitbart.com/big-government/2017/0...  2017-09-12   \n",
       "4  https://www.cnn.com/2019/07/11/politics/donald...  2019-07-11   \n",
       "\n",
       "                                             authors  \\\n",
       "0                                   N. R. Kleinfield   \n",
       "1  Emily Stewart, Terry Nguyen, Rebecca Jennings,...   \n",
       "2                                      Anya Kamenetz   \n",
       "3                                          Ian Mason   \n",
       "4                         Analysis Stephen Collinson   \n",
       "\n",
       "                                               title  \\\n",
       "0  Bomb Suspect Changed After Trip Abroad, Friend...   \n",
       "1  Why Susan Collins claims she’s being bribed ov...   \n",
       "2  Poll: Prestigious Colleges Won't Make You Happ...   \n",
       "3  Paul Ryan Reportedly Says No Chance for Border...   \n",
       "4  OPINION: Trump seeking change of legal fortune...   \n",
       "\n",
       "                                    content_original  \\\n",
       "0  Besides his most recent trip to Quetta, Mr. Ra...   \n",
       "1  Is Maine Republican Sen. Susan Collins being b...   \n",
       "2  Poll: Prestigious Colleges Won't Make You Happ...   \n",
       "3  House Speaker Paul Ryan, at a private dinner e...   \n",
       "4  (CNN) President Donald Trump has reason to hop...   \n",
       "\n",
       "                                             content bias_text  bias  \n",
       "0  Besides his most recent trip to Quetta , Mr. R...      left     0  \n",
       "1  Is Maine Republican Sen. Susan Collins being b...      left     0  \n",
       "2  Poll : Prestigious Colleges Wo n't Make You Ha...      left     0  \n",
       "3  House Speaker Paul Ryan , at a private dinner ...     right     2  \n",
       "4  ( CNN ) President Donald Trump has reason to h...      left     0  "
      ]
     },
     "execution_count": 2,
     "metadata": {},
     "output_type": "execute_result"
    }
   ],
   "source": [
    "# File names of the four data sets\n",
    "# adultDataSet_filename = os.path.join(os.getcwd(), \"data\", \"censusData.csv\")\n",
    "# airbnbDataSet_filename = os.path.join(os.getcwd(), \"data\", \"airbnbListingsData.csv\")\n",
    "# WHRDataSet_filename = os.path.join(os.getcwd(), \"data\", \"WHR2018Chapter2OnlineData.csv\")\n",
    "# bookReviewDataSet_filename = os.path.join(os.getcwd(), \"data\", \"bookReviewsData.csv\")\n",
    "\n",
    "articlesDataSet_filename = os.path.join(os.getcwd(), \"data_lab8\", \"articles.csv\")\n",
    "\n",
    "df = pd.read_csv(articlesDataSet_filename)\n",
    "\n",
    "df.head()"
   ]
  },
  {
   "cell_type": "markdown",
   "metadata": {},
   "source": [
    "## Part 2: Define Your ML Problem\n",
    "\n",
    "Next you will formulate your ML Problem. In the markdown cell below, answer the following questions:\n",
    "\n",
    "1. List the data set you have chosen.\n",
    "2. What will you be predicting? What is the label?\n",
    "3. Is this a supervised or unsupervised learning problem? Is this a clustering, classification or regression problem? Is it a binary classificaiton or multi-class classifiction problem?\n",
    "4. What are your features? (note: this list may change after your explore your data)\n",
    "5. Explain why this is an important problem. In other words, how would a company create value with a model that predicts this label?"
   ]
  },
  {
   "cell_type": "markdown",
   "metadata": {},
   "source": [
    "1. I have chosen an external dataset from a Github repo (https://github.com/ramybaly/Article-Bias-Prediction) containing different articles scraped from www.allsides.com. This repo had the data in the format of a bunch of json files. I cloned this repo locally, loaded all the json data into a dataframe, and then saved it to a csv file that I uploaded into this jupyter server.\n",
    "2. I will be predicting the political bias (label) of articles as right, left, or center.\n",
    "3. This is a supervised machine learning problem, as I am predicting a label. It is a multi-class classification problem using NLP, where the classes are right, left, and center.\n",
    "4. The features are the vector represenations of the words from the content and title.\n",
    "5. There a lot of different use cases for this model. Although I'm doing this out of pure interest, I can imagine people running a political campaign wanting to be able to predict at scale, what political bias today's articles have about a certain person. I can also see this as good for analyzing market segmentation. Scrape all articles related to your company / product and see what political bias it is being written with. "
   ]
  },
  {
   "cell_type": "markdown",
   "metadata": {},
   "source": [
    "## Part 3: Understand Your Data\n",
    "\n",
    "The next step is to perform exploratory data analysis. Inspect and analyze your data set with your machine learning problem in mind. Consider the following as you inspect your data:\n",
    "\n",
    "1. What data preparation techniques would you like to use? These data preparation techniques may include:\n",
    "\n",
    "    * addressing missingness, such as replacing missing values with means\n",
    "    * finding and replacing outliers\n",
    "    * renaming features and labels\n",
    "    * finding and replacing outliers\n",
    "    * performing feature engineering techniques such as one-hot encoding on categorical features\n",
    "    * selecting appropriate features and removing irrelevant features\n",
    "    * performing specific data cleaning and preprocessing techniques for an NLP problem\n",
    "    * addressing class imbalance in your data sample to promote fair AI\n",
    "    \n",
    "\n",
    "2. What machine learning model (or models) you would like to use that is suitable for your predictive problem and data?\n",
    "    * Are there other data preparation techniques that you will need to apply to build a balanced modeling data set for your problem and model? For example, will you need to scale your data?\n",
    " \n",
    " \n",
    "3. How will you evaluate and improve the model's performance?\n",
    "    * Are there specific evaluation metrics and methods that are appropriate for your model?\n",
    "    \n",
    "\n",
    "Think of the different techniques you have used to inspect and analyze your data in this course. These include using Pandas to apply data filters, using the Pandas `describe()` method to get insight into key statistics for each column, using the Pandas `dtypes` property to inspect the data type of each column, and using Matplotlib and Seaborn to detect outliers and visualize relationships between features and labels. If you are working on a classification problem, use techniques you have learned to determine if there is class imbalance.\n",
    "\n",
    "<b>Task</b>: Use the techniques you have learned in this course to inspect and analyze your data. You can import additional packages that you have used in this course that you will need to perform this task.\n",
    "\n",
    "<b>Note</b>: You can add code cells if needed by going to the <b>Insert</b> menu and clicking on <b>Insert Cell Below</b> in the drop-drown menu."
   ]
  },
  {
   "cell_type": "markdown",
   "metadata": {},
   "source": [
    "1. To prepare my data, I'll need to perform data cleaning and preprocessing on the content of each of the articles. This includes tokenizing the articles, preprocessing them to remove stop words and words that have low predictive value, using the TFIDF vectorizer + word embeddings. I'll also need to check for class imbalance and potentially downsample if I have execution bottlenecks. Update: I tried using word embeddings, but it seems as though I can't create the word embeddings, replace each of the words in the each article and take the average of those vectors without the kernel dying-- this seems to be an execution bottleneck, so I will just be using the TFIDF vectorizer and see if I can optimize with that.\n",
    "2. Thinking of using word2vec for the embeddings and a deep averaging NN for multi class classification. Update: Since I've run into a lot of execution bottlenecks with word2vec and the NN, I've opted to use and try to optimize a Random Forest and Gradient Boosted Classifier for this multi-class classification task, where they will each take in the TFIDF vectors and output the political bias label.\n",
    "3. To evaluate and improve the models' performance, I will perform grid search and do hyperparameter tuning to find the optimal hyperparameters for the TFIDF vectorizer, RF, and Gradient Boosted Classifier."
   ]
  },
  {
   "cell_type": "code",
   "execution_count": 3,
   "metadata": {},
   "outputs": [
    {
     "data": {
      "text/plain": [
       "(37554, 12)"
      ]
     },
     "execution_count": 3,
     "metadata": {},
     "output_type": "execute_result"
    }
   ],
   "source": [
    "df.shape"
   ]
  },
  {
   "cell_type": "code",
   "execution_count": 4,
   "metadata": {},
   "outputs": [
    {
     "data": {
      "text/plain": [
       "Index(['ID', 'topic', 'source', 'source_url', 'url', 'date', 'authors',\n",
       "       'title', 'content_original', 'content', 'bias_text', 'bias'],\n",
       "      dtype='object')"
      ]
     },
     "execution_count": 4,
     "metadata": {},
     "output_type": "execute_result"
    }
   ],
   "source": [
    "df.columns"
   ]
  },
  {
   "cell_type": "code",
   "execution_count": 5,
   "metadata": {},
   "outputs": [
    {
     "data": {
      "text/plain": [
       "ID                  object\n",
       "topic               object\n",
       "source              object\n",
       "source_url          object\n",
       "url                 object\n",
       "date                object\n",
       "authors             object\n",
       "title               object\n",
       "content_original    object\n",
       "content             object\n",
       "bias_text           object\n",
       "bias                 int64\n",
       "dtype: object"
      ]
     },
     "execution_count": 5,
     "metadata": {},
     "output_type": "execute_result"
    }
   ],
   "source": [
    "df.dtypes"
   ]
  },
  {
   "cell_type": "code",
   "execution_count": 6,
   "metadata": {},
   "outputs": [
    {
     "data": {
      "text/plain": [
       "ID                  37554\n",
       "topic                 108\n",
       "source                491\n",
       "source_url            467\n",
       "url                 37541\n",
       "date                 2915\n",
       "authors             12354\n",
       "title               37554\n",
       "content_original    37547\n",
       "content             37554\n",
       "bias_text               3\n",
       "bias                    3\n",
       "dtype: int64"
      ]
     },
     "execution_count": 6,
     "metadata": {},
     "output_type": "execute_result"
    }
   ],
   "source": [
    "df.nunique()"
   ]
  },
  {
   "cell_type": "code",
   "execution_count": 7,
   "metadata": {},
   "outputs": [
    {
     "name": "stdout",
     "output_type": "stream",
     "text": [
      "{'left': 13005, 'right': 13734, 'center': 10815}\n"
     ]
    },
    {
     "data": {
      "text/plain": [
       "<AxesSubplot: xlabel='bias_text', ylabel='Count'>"
      ]
     },
     "execution_count": 7,
     "metadata": {},
     "output_type": "execute_result"
    },
    {
     "data": {
      "image/png": "[encoded data removed]",
      "text/plain": [
       "<Figure size 640x480 with 1 Axes>"
      ]
     },
     "metadata": {},
     "output_type": "display_data"
    }
   ],
   "source": [
    "# To check for class imbalance\n",
    "label_freq = {}\n",
    "for label in df['bias_text'].unique():\n",
    "    label_freq[label] = len(df[df['bias_text'] == label])\n",
    "print(label_freq)\n",
    "\n",
    "# create histogram of biases\n",
    "sns.histplot(df['bias_text'])\n",
    "\n",
    "# We can observe that there is no significant class imbalance!"
   ]
  },
  {
   "cell_type": "code",
   "execution_count": 8,
   "metadata": {},
   "outputs": [],
   "source": [
    "# Downsample because 37k is a lot to train on.\n",
    "df = df.sample(frac=0.5, random_state=1234) "
   ]
  },
  {
   "cell_type": "code",
   "execution_count": 9,
   "metadata": {},
   "outputs": [
    {
     "data": {
      "text/plain": [
       "(18777, 12)"
      ]
     },
     "execution_count": 9,
     "metadata": {},
     "output_type": "execute_result"
    }
   ],
   "source": [
    "df.shape # we now have a little over 10k samples to train on"
   ]
  },
  {
   "cell_type": "code",
   "execution_count": 10,
   "metadata": {},
   "outputs": [
    {
     "name": "stdout",
     "output_type": "stream",
     "text": [
      "{'center': 5384, 'left': 6545, 'right': 6848}\n"
     ]
    },
    {
     "data": {
      "text/plain": [
       "<AxesSubplot: xlabel='bias_text', ylabel='Count'>"
      ]
     },
     "execution_count": 10,
     "metadata": {},
     "output_type": "execute_result"
    },
    {
     "data": {
      "image/png": "[encoded data removed]",
      "text/plain": [
       "<Figure size 640x480 with 1 Axes>"
      ]
     },
     "metadata": {},
     "output_type": "display_data"
    }
   ],
   "source": [
    "# Check for class imbalance again after downsampling\n",
    "label_freq = {}\n",
    "for label in df['bias_text'].unique():\n",
    "    label_freq[label] = len(df[df['bias_text'] == label])\n",
    "print(label_freq)\n",
    "\n",
    "# create histogram of biases\n",
    "sns.histplot(df['bias_text'])\n",
    "\n",
    "# We can observe that there is no significant class imbalance!"
   ]
  },
  {
   "cell_type": "code",
   "execution_count": 11,
   "metadata": {},
   "outputs": [
    {
     "name": "stdout",
     "output_type": "stream",
     "text": [
      "Document 0 has a length of 5879 characters.\n",
      "Document 1 has a length of 2336 characters.\n",
      "Document 2 has a length of 3330 characters.\n",
      "Document 3 has a length of 5127 characters.\n",
      "Document 4 has a length of 7341 characters.\n",
      "Document 5 has a length of 6313 characters.\n",
      "Document 6 has a length of 5859 characters.\n",
      "Document 7 has a length of 4031 characters.\n",
      "Document 8 has a length of 10265 characters.\n",
      "Document 9 has a length of 1890 characters.\n"
     ]
    }
   ],
   "source": [
    "# explore average length of the content \n",
    "for i in range(10):\n",
    "    print('Document', i, 'has a length of', len(df['content'].iloc[i]), 'characters.')"
   ]
  },
  {
   "cell_type": "code",
   "execution_count": 12,
   "metadata": {},
   "outputs": [],
   "source": [
    "df['content_length'] = [len(df['content'].iloc[i]) for i in range(len(df['content']))]"
   ]
  },
  {
   "cell_type": "code",
   "execution_count": 13,
   "metadata": {},
   "outputs": [
    {
     "data": {
      "text/html": [
       "<div>\n",
       "<style scoped>\n",
       "    .dataframe tbody tr th:only-of-type {\n",
       "        vertical-align: middle;\n",
       "    }\n",
       "\n",
       "    .dataframe tbody tr th {\n",
       "        vertical-align: top;\n",
       "    }\n",
       "\n",
       "    .dataframe thead th {\n",
       "        text-align: right;\n",
       "    }\n",
       "</style>\n",
       "<table border=\"1\" class=\"dataframe\">\n",
       "  <thead>\n",
       "    <tr style=\"text-align: right;\">\n",
       "      <th></th>\n",
       "      <th>ID</th>\n",
       "      <th>topic</th>\n",
       "      <th>source</th>\n",
       "      <th>source_url</th>\n",
       "      <th>url</th>\n",
       "      <th>date</th>\n",
       "      <th>authors</th>\n",
       "      <th>title</th>\n",
       "      <th>content_original</th>\n",
       "      <th>content</th>\n",
       "      <th>bias_text</th>\n",
       "      <th>bias</th>\n",
       "      <th>content_length</th>\n",
       "    </tr>\n",
       "  </thead>\n",
       "  <tbody>\n",
       "    <tr>\n",
       "      <th>23655</th>\n",
       "      <td>ojdtG0koWxUKhK1r</td>\n",
       "      <td>technology</td>\n",
       "      <td>Business Insider</td>\n",
       "      <td>www.businessinsider.com</td>\n",
       "      <td>https://www.businessinsider.com/banning-trump-...</td>\n",
       "      <td>2020-05-28</td>\n",
       "      <td>Anthony L. Fisher</td>\n",
       "      <td>Banning Trump from Twitter would be a disservi...</td>\n",
       "      <td>Trump's tweets promoting a fake conspiracy the...</td>\n",
       "      <td>Trump 's tweets promoting a fake conspiracy th...</td>\n",
       "      <td>center</td>\n",
       "      <td>1</td>\n",
       "      <td>5879</td>\n",
       "    </tr>\n",
       "    <tr>\n",
       "      <th>28480</th>\n",
       "      <td>sgRt8EFn4T481pmy</td>\n",
       "      <td>elections</td>\n",
       "      <td>New York Times - News</td>\n",
       "      <td>www.nytimes.com</td>\n",
       "      <td>http://www.nytimes.com/2016/02/16/upshot/supre...</td>\n",
       "      <td>2016-02-16</td>\n",
       "      <td>Nate Cohn</td>\n",
       "      <td>Republican Risk Five Key Senate Races with Sup...</td>\n",
       "      <td>Somewhat more surprising is Kelly Ayotte, a Ne...</td>\n",
       "      <td>Somewhat more surprising is Kelly Ayotte , a N...</td>\n",
       "      <td>left</td>\n",
       "      <td>0</td>\n",
       "      <td>2336</td>\n",
       "    </tr>\n",
       "    <tr>\n",
       "      <th>35372</th>\n",
       "      <td>yBFS7i7mmXf1ik62</td>\n",
       "      <td>politics</td>\n",
       "      <td>Daily Beast</td>\n",
       "      <td>www.thedailybeast.com</td>\n",
       "      <td>http://www.thedailybeast.com/articles/2017/04/...</td>\n",
       "      <td>2017-04-15</td>\n",
       "      <td>Scott Bixby, National Reporter</td>\n",
       "      <td>Protests at Berkeley For And Against 'Chicken'...</td>\n",
       "      <td>Twin protests held either in support or defian...</td>\n",
       "      <td>Twin protests held either in support or defian...</td>\n",
       "      <td>left</td>\n",
       "      <td>0</td>\n",
       "      <td>3330</td>\n",
       "    </tr>\n",
       "    <tr>\n",
       "      <th>28701</th>\n",
       "      <td>sM2D4yHJqVtnx1BS</td>\n",
       "      <td>media_bias</td>\n",
       "      <td>Associated Press</td>\n",
       "      <td>www.apnews.com</td>\n",
       "      <td>https://apnews.com/ecbf188e7e200f6215e75f9fb5d...</td>\n",
       "      <td>2020-01-09</td>\n",
       "      <td>David Bauder</td>\n",
       "      <td>Did Fox’s Tucker Carlson play role in calming ...</td>\n",
       "      <td>FILE - In this March 2, 2017 file photo, Tucke...</td>\n",
       "      <td>FILE - In this March 2 , 2017 file photo , Tuc...</td>\n",
       "      <td>center</td>\n",
       "      <td>1</td>\n",
       "      <td>5127</td>\n",
       "    </tr>\n",
       "    <tr>\n",
       "      <th>16229</th>\n",
       "      <td>IgNdTJT0VXClWY8Y</td>\n",
       "      <td>israel</td>\n",
       "      <td>BBC News</td>\n",
       "      <td>www.bbc.com</td>\n",
       "      <td>https://www.bbc.com/news/world-middle-east-478...</td>\n",
       "      <td>NaN</td>\n",
       "      <td>NaN</td>\n",
       "      <td>Israel election: Netanyahu set for record fift...</td>\n",
       "      <td>Media playback is unsupported on your device M...</td>\n",
       "      <td>Israeli PM Benjamin Netanyahu looks all but ce...</td>\n",
       "      <td>center</td>\n",
       "      <td>1</td>\n",
       "      <td>7341</td>\n",
       "    </tr>\n",
       "  </tbody>\n",
       "</table>\n",
       "</div>"
      ],
      "text/plain": [
       "                     ID       topic                 source  \\\n",
       "23655  ojdtG0koWxUKhK1r  technology       Business Insider   \n",
       "28480  sgRt8EFn4T481pmy   elections  New York Times - News   \n",
       "35372  yBFS7i7mmXf1ik62    politics            Daily Beast   \n",
       "28701  sM2D4yHJqVtnx1BS  media_bias       Associated Press   \n",
       "16229  IgNdTJT0VXClWY8Y      israel               BBC News   \n",
       "\n",
       "                    source_url  \\\n",
       "23655  www.businessinsider.com   \n",
       "28480          www.nytimes.com   \n",
       "35372    www.thedailybeast.com   \n",
       "28701           www.apnews.com   \n",
       "16229              www.bbc.com   \n",
       "\n",
       "                                                     url        date  \\\n",
       "23655  https://www.businessinsider.com/banning-trump-...  2020-05-28   \n",
       "28480  http://www.nytimes.com/2016/02/16/upshot/supre...  2016-02-16   \n",
       "35372  http://www.thedailybeast.com/articles/2017/04/...  2017-04-15   \n",
       "28701  https://apnews.com/ecbf188e7e200f6215e75f9fb5d...  2020-01-09   \n",
       "16229  https://www.bbc.com/news/world-middle-east-478...         NaN   \n",
       "\n",
       "                              authors  \\\n",
       "23655               Anthony L. Fisher   \n",
       "28480                       Nate Cohn   \n",
       "35372  Scott Bixby, National Reporter   \n",
       "28701                    David Bauder   \n",
       "16229                             NaN   \n",
       "\n",
       "                                                   title  \\\n",
       "23655  Banning Trump from Twitter would be a disservi...   \n",
       "28480  Republican Risk Five Key Senate Races with Sup...   \n",
       "35372  Protests at Berkeley For And Against 'Chicken'...   \n",
       "28701  Did Fox’s Tucker Carlson play role in calming ...   \n",
       "16229  Israel election: Netanyahu set for record fift...   \n",
       "\n",
       "                                        content_original  \\\n",
       "23655  Trump's tweets promoting a fake conspiracy the...   \n",
       "28480  Somewhat more surprising is Kelly Ayotte, a Ne...   \n",
       "35372  Twin protests held either in support or defian...   \n",
       "28701  FILE - In this March 2, 2017 file photo, Tucke...   \n",
       "16229  Media playback is unsupported on your device M...   \n",
       "\n",
       "                                                 content bias_text  bias  \\\n",
       "23655  Trump 's tweets promoting a fake conspiracy th...    center     1   \n",
       "28480  Somewhat more surprising is Kelly Ayotte , a N...      left     0   \n",
       "35372  Twin protests held either in support or defian...      left     0   \n",
       "28701  FILE - In this March 2 , 2017 file photo , Tuc...    center     1   \n",
       "16229  Israeli PM Benjamin Netanyahu looks all but ce...    center     1   \n",
       "\n",
       "       content_length  \n",
       "23655            5879  \n",
       "28480            2336  \n",
       "35372            3330  \n",
       "28701            5127  \n",
       "16229            7341  "
      ]
     },
     "execution_count": 13,
     "metadata": {},
     "output_type": "execute_result"
    }
   ],
   "source": [
    "df.head()"
   ]
  },
  {
   "cell_type": "code",
   "execution_count": 14,
   "metadata": {},
   "outputs": [
    {
     "data": {
      "text/html": [
       "<div>\n",
       "<style scoped>\n",
       "    .dataframe tbody tr th:only-of-type {\n",
       "        vertical-align: middle;\n",
       "    }\n",
       "\n",
       "    .dataframe tbody tr th {\n",
       "        vertical-align: top;\n",
       "    }\n",
       "\n",
       "    .dataframe thead th {\n",
       "        text-align: right;\n",
       "    }\n",
       "</style>\n",
       "<table border=\"1\" class=\"dataframe\">\n",
       "  <thead>\n",
       "    <tr style=\"text-align: right;\">\n",
       "      <th></th>\n",
       "      <th>bias</th>\n",
       "      <th>content_length</th>\n",
       "    </tr>\n",
       "  </thead>\n",
       "  <tbody>\n",
       "    <tr>\n",
       "      <th>count</th>\n",
       "      <td>18777.000000</td>\n",
       "      <td>18777.000000</td>\n",
       "    </tr>\n",
       "    <tr>\n",
       "      <th>mean</th>\n",
       "      <td>1.016137</td>\n",
       "      <td>5826.871598</td>\n",
       "    </tr>\n",
       "    <tr>\n",
       "      <th>std</th>\n",
       "      <td>0.844419</td>\n",
       "      <td>3953.709987</td>\n",
       "    </tr>\n",
       "    <tr>\n",
       "      <th>min</th>\n",
       "      <td>0.000000</td>\n",
       "      <td>131.000000</td>\n",
       "    </tr>\n",
       "    <tr>\n",
       "      <th>25%</th>\n",
       "      <td>0.000000</td>\n",
       "      <td>3334.000000</td>\n",
       "    </tr>\n",
       "    <tr>\n",
       "      <th>50%</th>\n",
       "      <td>1.000000</td>\n",
       "      <td>4936.000000</td>\n",
       "    </tr>\n",
       "    <tr>\n",
       "      <th>75%</th>\n",
       "      <td>2.000000</td>\n",
       "      <td>7007.000000</td>\n",
       "    </tr>\n",
       "    <tr>\n",
       "      <th>max</th>\n",
       "      <td>2.000000</td>\n",
       "      <td>53289.000000</td>\n",
       "    </tr>\n",
       "  </tbody>\n",
       "</table>\n",
       "</div>"
      ],
      "text/plain": [
       "               bias  content_length\n",
       "count  18777.000000    18777.000000\n",
       "mean       1.016137     5826.871598\n",
       "std        0.844419     3953.709987\n",
       "min        0.000000      131.000000\n",
       "25%        0.000000     3334.000000\n",
       "50%        1.000000     4936.000000\n",
       "75%        2.000000     7007.000000\n",
       "max        2.000000    53289.000000"
      ]
     },
     "execution_count": 14,
     "metadata": {},
     "output_type": "execute_result"
    }
   ],
   "source": [
    "df.describe()"
   ]
  },
  {
   "cell_type": "code",
   "execution_count": 15,
   "metadata": {},
   "outputs": [
    {
     "data": {
      "text/plain": [
       "<AxesSubplot: xlabel='content_length', ylabel='Count'>"
      ]
     },
     "execution_count": 15,
     "metadata": {},
     "output_type": "execute_result"
    },
    {
     "data": {
      "image/png": "[encoded data removed]",
      "text/plain": [
       "<Figure size 640x480 with 1 Axes>"
      ]
     },
     "metadata": {},
     "output_type": "display_data"
    }
   ],
   "source": [
    "# want to get rid of the articles that have absurdly large content lengths just to make it easier to work with\n",
    "sns.histplot(df['content_length'])"
   ]
  },
  {
   "cell_type": "code",
   "execution_count": 16,
   "metadata": {},
   "outputs": [
    {
     "data": {
      "text/plain": [
       "<AxesSubplot: xlabel='content_length', ylabel='Count'>"
      ]
     },
     "execution_count": 16,
     "metadata": {},
     "output_type": "execute_result"
    },
    {
     "data": {
      "image/png": "[encoded data removed]",
      "text/plain": [
       "<Figure size 640x480 with 1 Axes>"
      ]
     },
     "metadata": {},
     "output_type": "display_data"
    }
   ],
   "source": [
    "# lets get rid of the rows where the content_length > 10000\n",
    "df = df[df['content_length'] <= 10000]\n",
    "sns.histplot(df['content_length'])"
   ]
  },
  {
   "cell_type": "code",
   "execution_count": 17,
   "metadata": {},
   "outputs": [
    {
     "data": {
      "text/plain": [
       "(16996, 13)"
      ]
     },
     "execution_count": 17,
     "metadata": {},
     "output_type": "execute_result"
    }
   ],
   "source": [
    "df.shape # now we have around 17k samples to work with"
   ]
  },
  {
   "cell_type": "code",
   "execution_count": 18,
   "metadata": {},
   "outputs": [
    {
     "name": "stdout",
     "output_type": "stream",
     "text": [
      "{'center': 4953, 'left': 5545, 'right': 6498}\n"
     ]
    },
    {
     "data": {
      "text/plain": [
       "<AxesSubplot: xlabel='bias_text', ylabel='Count'>"
      ]
     },
     "execution_count": 18,
     "metadata": {},
     "output_type": "execute_result"
    },
    {
     "data": {
      "image/png": "[encoded data removed]",
      "text/plain": [
       "<Figure size 640x480 with 1 Axes>"
      ]
     },
     "metadata": {},
     "output_type": "display_data"
    }
   ],
   "source": [
    "# Check for class imbalance again after downsampling\n",
    "label_freq = {}\n",
    "for label in df['bias_text'].unique():\n",
    "    label_freq[label] = len(df[df['bias_text'] == label])\n",
    "print(label_freq)\n",
    "\n",
    "# create histogram of biases\n",
    "sns.histplot(df['bias_text'])\n",
    "\n",
    "# We can observe that there is no significant class imbalance!"
   ]
  },
  {
   "cell_type": "code",
   "execution_count": 19,
   "metadata": {},
   "outputs": [
    {
     "data": {
      "text/html": [
       "<div>\n",
       "<style scoped>\n",
       "    .dataframe tbody tr th:only-of-type {\n",
       "        vertical-align: middle;\n",
       "    }\n",
       "\n",
       "    .dataframe tbody tr th {\n",
       "        vertical-align: top;\n",
       "    }\n",
       "\n",
       "    .dataframe thead th {\n",
       "        text-align: right;\n",
       "    }\n",
       "</style>\n",
       "<table border=\"1\" class=\"dataframe\">\n",
       "  <thead>\n",
       "    <tr style=\"text-align: right;\">\n",
       "      <th></th>\n",
       "      <th>bias</th>\n",
       "      <th>content_length</th>\n",
       "    </tr>\n",
       "  </thead>\n",
       "  <tbody>\n",
       "    <tr>\n",
       "      <th>count</th>\n",
       "      <td>16996.000000</td>\n",
       "      <td>16996.000000</td>\n",
       "    </tr>\n",
       "    <tr>\n",
       "      <th>mean</th>\n",
       "      <td>1.056072</td>\n",
       "      <td>4887.103671</td>\n",
       "    </tr>\n",
       "    <tr>\n",
       "      <th>std</th>\n",
       "      <td>0.839926</td>\n",
       "      <td>2051.440237</td>\n",
       "    </tr>\n",
       "    <tr>\n",
       "      <th>min</th>\n",
       "      <td>0.000000</td>\n",
       "      <td>131.000000</td>\n",
       "    </tr>\n",
       "    <tr>\n",
       "      <th>25%</th>\n",
       "      <td>0.000000</td>\n",
       "      <td>3175.000000</td>\n",
       "    </tr>\n",
       "    <tr>\n",
       "      <th>50%</th>\n",
       "      <td>1.000000</td>\n",
       "      <td>4626.000000</td>\n",
       "    </tr>\n",
       "    <tr>\n",
       "      <th>75%</th>\n",
       "      <td>2.000000</td>\n",
       "      <td>6285.000000</td>\n",
       "    </tr>\n",
       "    <tr>\n",
       "      <th>max</th>\n",
       "      <td>2.000000</td>\n",
       "      <td>10000.000000</td>\n",
       "    </tr>\n",
       "  </tbody>\n",
       "</table>\n",
       "</div>"
      ],
      "text/plain": [
       "               bias  content_length\n",
       "count  16996.000000    16996.000000\n",
       "mean       1.056072     4887.103671\n",
       "std        0.839926     2051.440237\n",
       "min        0.000000      131.000000\n",
       "25%        0.000000     3175.000000\n",
       "50%        1.000000     4626.000000\n",
       "75%        2.000000     6285.000000\n",
       "max        2.000000    10000.000000"
      ]
     },
     "execution_count": 19,
     "metadata": {},
     "output_type": "execute_result"
    }
   ],
   "source": [
    "df.describe()"
   ]
  },
  {
   "cell_type": "markdown",
   "metadata": {},
   "source": [
    "## Part 4: Define Your Project Plan\n",
    "\n",
    "Now that you understand your data, in the markdown cell below, define your plan to implement the remaining phases of the machine learning life cycle (data preparation, modeling, evaluation) to solve your ML problem. Answer the following questions:\n",
    "\n",
    "* Do you have a new feature list? If so, what are the features that you chose to keep and remove after inspecting the data? \n",
    "* Explain different data preparation techniques that you will use to prepare your data for modeling.\n",
    "* What is your model (or models)?\n",
    "* Describe your plan to train your model, analyze its performance and then improve the model. That is, describe your model building, validation and selection plan to produce a model that generalizes well to new data. "
   ]
  },
  {
   "cell_type": "markdown",
   "metadata": {},
   "source": [
    "To prepare the data, I will drop the unnecessary columns like the ID, urls, date, authors, etc so I can just leave the columns necessary for the NLP analysis (the content and the title and the bias label). To prep the data, I will create a new feature that combines the title and the content and then I will tf-idf vectorize the title and content for all documents. I will then split my data into training and test data using an 80-20 split. Then I will train models for a RandomForestClassifier and a GradientBoostedClassifier and do grid search to find the optimal hyperparameters for the two classifiers and the vectorizer. I chose these two classifier models because they work well for multi-class classification and because a NN was causing me execution bottlenecks that I could not resolve within this VM environment (where the kernel kept dying every 20 minutes). I will also use a fraction of the training data for validation for the gradient boosted classifier and then compare the test accuracies for each of the classifiers to finally choose a model that generalizes well to new data.  "
   ]
  },
  {
   "cell_type": "markdown",
   "metadata": {},
   "source": [
    "## Part 5: Implement Your Project Plan\n",
    "\n",
    "<b>Task:</b> In the code cell below, import additional packages that you have used in this course that you will need to implement your project plan."
   ]
  },
  {
   "cell_type": "code",
   "execution_count": 21,
   "metadata": {},
   "outputs": [],
   "source": [
    "from sklearn.feature_extraction.text import TfidfVectorizer\n",
    "from sklearn.model_selection import train_test_split\n",
    "from sklearn.metrics import accuracy_score\n",
    "import tensorflow.keras as keras\n",
    "import time"
   ]
  },
  {
   "cell_type": "code",
   "execution_count": 22,
   "metadata": {},
   "outputs": [],
   "source": [
    "from sklearn.model_selection import train_test_split\n",
    "from sklearn.metrics import roc_auc_score\n",
    "from sklearn.ensemble import RandomForestClassifier\n",
    "from sklearn.ensemble import GradientBoostingClassifier\n",
    "from sklearn.model_selection import GridSearchCV"
   ]
  },
  {
   "cell_type": "markdown",
   "metadata": {},
   "source": [
    "<b>Task:</b> Use the rest of this notebook to carry out your project plan. \n",
    "\n",
    "You will:\n",
    "\n",
    "1. Prepare your data for your model.\n",
    "2. Fit your model to the training data and evaluate your model.\n",
    "3. Improve your model's performance by performing model selection and/or feature selection techniques to find best model for your problem.\n",
    "\n",
    "Add code cells below and populate the notebook with commentary, code, analyses, results, and figures as you see fit. "
   ]
  },
  {
   "cell_type": "markdown",
   "metadata": {},
   "source": [
    "### Data Prep + Feature Engineering"
   ]
  },
  {
   "cell_type": "code",
   "execution_count": 23,
   "metadata": {},
   "outputs": [],
   "source": [
    "# drop unnecessary columns that won't add predictive value\n",
    "df = df.drop(columns=['ID', 'topic',  'source', 'source_url', 'url', 'date', 'authors', 'content_original'])"
   ]
  },
  {
   "cell_type": "code",
   "execution_count": 24,
   "metadata": {},
   "outputs": [
    {
     "data": {
      "text/plain": [
       "Index(['title', 'content', 'bias_text', 'bias', 'content_length'], dtype='object')"
      ]
     },
     "execution_count": 24,
     "metadata": {},
     "output_type": "execute_result"
    }
   ],
   "source": [
    "df.columns"
   ]
  },
  {
   "cell_type": "code",
   "execution_count": 25,
   "metadata": {},
   "outputs": [
    {
     "data": {
      "text/plain": [
       "23655    Banning Trump from Twitter would be a disservi...\n",
       "28480    Republican Risk Five Key Senate Races with Sup...\n",
       "35372    Protests at Berkeley For And Against 'Chicken'...\n",
       "28701    Did Fox’s Tucker Carlson play role in calming ...\n",
       "16229    Israel election: Netanyahu set for record fift...\n",
       "                               ...                        \n",
       "18378    Liberal Democrats, Trump loyalists, and women ...\n",
       "37079    Green, Yellow, Orange Or Red? This New Tool Sh...\n",
       "14554    Berkeley Riot Explodes: Trump Supporters Beate...\n",
       "14471    Why Your Ideological Echo Chamber Isn't Just B...\n",
       "28008    White House Offers Stealth Campaign to Support...\n",
       "Name: full_article, Length: 16996, dtype: object"
      ]
     },
     "execution_count": 25,
     "metadata": {},
     "output_type": "execute_result"
    }
   ],
   "source": [
    "# combine title and content to get full article\n",
    "df['full_article'] = df['title'] + \" . \" + df['content']\n",
    "df['full_article']"
   ]
  },
  {
   "cell_type": "markdown",
   "metadata": {},
   "source": [
    "### Choose features and labels. Split Training and Test Data."
   ]
  },
  {
   "cell_type": "code",
   "execution_count": 26,
   "metadata": {},
   "outputs": [],
   "source": [
    "X = df['full_article']\n",
    "y = df['bias']"
   ]
  },
  {
   "cell_type": "code",
   "execution_count": 27,
   "metadata": {},
   "outputs": [],
   "source": [
    "X_train, X_test, y_train, y_test = train_test_split(X, y, test_size=0.2, random_state=1234)"
   ]
  },
  {
   "cell_type": "code",
   "execution_count": 28,
   "metadata": {},
   "outputs": [
    {
     "name": "stdout",
     "output_type": "stream",
     "text": [
      "(13596,)\n",
      "11169    David Sorensen becomes second Trump aide to qu...\n",
      "9516     'Ideological' Or 'Illogical': President Obama ...\n",
      "10215    Marianne Williamson Is Way Out There, But She ...\n",
      "31005    NYT Fact Check: Actually, the Overwhelming Maj...\n",
      "20402    OPINION: State of the Union promises epic poli...\n",
      "Name: full_article, dtype: object\n",
      "(3400,)\n",
      "22989    Bipartisan Senate group seeks to block militar...\n",
      "7356      Will the media and resistance be ready on day...\n",
      "28503    New York Daily News joins growing number of ne...\n",
      "36257    Economic Armageddon? Republicans call sequeste...\n",
      "33603    Trump threatens to declare Congress adjourned ...\n",
      "Name: full_article, dtype: object\n",
      "(13596,)\n",
      "11169    1\n",
      "9516     1\n",
      "10215    2\n",
      "31005    2\n",
      "20402    0\n",
      "Name: bias, dtype: int64\n",
      "(3400,)\n",
      "22989    2\n",
      "7356     0\n",
      "28503    2\n",
      "36257    2\n",
      "33603    2\n",
      "Name: bias, dtype: int64\n"
     ]
    }
   ],
   "source": [
    "data = [X_train, X_test, y_train, y_test]\n",
    "for d in data:\n",
    "    print(d.shape)\n",
    "    print(d.head())"
   ]
  },
  {
   "cell_type": "markdown",
   "metadata": {},
   "source": [
    "### Vectorize with TFIDF"
   ]
  },
  {
   "cell_type": "code",
   "execution_count": 29,
   "metadata": {},
   "outputs": [],
   "source": [
    "def prep_tfidf(X_train, X_test, min_df, max_df=1.0, ngram_range=(1,2)):\n",
    "    tfidf_vectorizer = TfidfVectorizer(min_df=min_df, max_df=max_df, ngram_range=ngram_range)\n",
    "    tfidf_vectorizer.fit(X_train)\n",
    "    X_train_tfidf = tfidf_vectorizer.transform(X_train)\n",
    "    X_test_tfidf = tfidf_vectorizer.transform(X_test)\n",
    "    vocabulary_size = len(tfidf_vectorizer.vocabulary_)\n",
    "    return X_train_tfidf, X_test_tfidf, vocabulary_size"
   ]
  },
  {
   "cell_type": "markdown",
   "metadata": {},
   "source": [
    "### Now create and optimize Random Forest Classifier using the embeddings"
   ]
  },
  {
   "cell_type": "code",
   "execution_count": 30,
   "metadata": {},
   "outputs": [],
   "source": [
    "def get_class_preds(all_probs):\n",
    "    class_predictions = []\n",
    "    for probs in all_probs:\n",
    "        class_predictions.append(np.argmax(probs))\n",
    "    return class_predictions"
   ]
  },
  {
   "cell_type": "code",
   "execution_count": 31,
   "metadata": {},
   "outputs": [],
   "source": [
    "def rf_train_and_predict(num_trees, X_train_data, X_test_data, y_train_data, y_test_data):\n",
    "    # 1. Create the RandomForestClassifier model object below and assign to variable 'rf_20_model'\n",
    "    rf_model = RandomForestClassifier(criterion='entropy', n_estimators=num_trees)\n",
    "    \n",
    "    # 2. Fit the model to the training data below\n",
    "    rf_model.fit(X_train_data, y_train_data)\n",
    "    \n",
    "    # 3. Make predictions on the test data using the predict_proba() method \n",
    "    rf_preds = rf_model.predict_proba(X_test_data)\n",
    "    print(rf_preds[0])\n",
    "\n",
    "    # 4. Get class predictions\n",
    "    class_preds = get_class_preds(rf_preds)\n",
    "\n",
    "    # 5. Return accuracy score\n",
    "    return accuracy_score(y_test_data, class_preds)"
   ]
  },
  {
   "cell_type": "markdown",
   "metadata": {},
   "source": [
    "### Manually Performing Grid Search between number of trees and min_df"
   ]
  },
  {
   "cell_type": "code",
   "execution_count": 43,
   "metadata": {},
   "outputs": [
    {
     "name": "stdout",
     "output_type": "stream",
     "text": [
      "Min DF: 20 \tVocab Size: 74305\n",
      "[0.375 0.125 0.5  ]\n",
      "trees =  16 , Accuracy Score =  0.5961764705882353\n",
      "[0.1875  0.28125 0.53125]\n",
      "trees =  32 , Accuracy Score =  0.6214705882352941\n",
      "[0.25    0.21875 0.53125]\n",
      "trees =  64 , Accuracy Score =  0.6367647058823529\n",
      "[0.265625  0.2109375 0.5234375]\n",
      "trees =  128 , Accuracy Score =  0.6529411764705882\n",
      "Min DF: 50 \tVocab Size: 31639\n",
      "[0.1875 0.3125 0.5   ]\n",
      "trees =  16 , Accuracy Score =  0.5647058823529412\n",
      "[0.25   0.1875 0.5625]\n",
      "trees =  32 , Accuracy Score =  0.625\n",
      "[0.21875  0.234375 0.546875]\n",
      "trees =  64 , Accuracy Score =  0.6464705882352941\n",
      "[0.2421875 0.1796875 0.578125 ]\n",
      "trees =  128 , Accuracy Score =  0.6617647058823529\n",
      "Min DF: 100 \tVocab Size: 16112\n",
      "[0.1875 0.3125 0.5   ]\n",
      "trees =  16 , Accuracy Score =  0.5861764705882353\n",
      "[0.28125 0.34375 0.375  ]\n",
      "trees =  32 , Accuracy Score =  0.6276470588235294\n",
      "[0.265625 0.15625  0.578125]\n",
      "trees =  64 , Accuracy Score =  0.655\n",
      "[0.265625  0.2109375 0.5234375]\n",
      "trees =  128 , Accuracy Score =  0.6602941176470588\n",
      "Min DF: 200 \tVocab Size: 8088\n",
      "[0.3125 0.25   0.4375]\n",
      "trees =  16 , Accuracy Score =  0.5814705882352941\n",
      "[0.46875 0.1875  0.34375]\n",
      "trees =  32 , Accuracy Score =  0.6179411764705882\n",
      "[0.25     0.328125 0.421875]\n",
      "trees =  64 , Accuracy Score =  0.6594117647058824\n",
      "[0.28125   0.2265625 0.4921875]\n",
      "trees =  128 , Accuracy Score =  0.6667647058823529\n",
      "Min DF: 500 \tVocab Size: 3101\n",
      "[0.125 0.125 0.75 ]\n",
      "trees =  16 , Accuracy Score =  0.5752941176470588\n",
      "[0.3125 0.3125 0.375 ]\n",
      "trees =  32 , Accuracy Score =  0.6\n",
      "[0.203125 0.171875 0.625   ]\n",
      "trees =  64 , Accuracy Score =  0.6373529411764706\n",
      "[0.25   0.1875 0.5625]\n",
      "trees =  128 , Accuracy Score =  0.6517647058823529\n"
     ]
    }
   ],
   "source": [
    "doc_freqs = [20, 50, 100, 200, 500]\n",
    "trees = [16, 32, 64, 128]\n",
    "acc_scores = []\n",
    "for min_df in doc_freqs:\n",
    "    X_train_tfidf, X_test_tfidf, vocabulary_size = prep_tfidf(X_train, X_test, min_df)\n",
    "    print(\"Min DF:\", min_df, \"\\tVocab Size:\", vocabulary_size)\n",
    "    for t in trees:\n",
    "        acc_score = rf_train_and_predict(t, X_train_tfidf, X_test_tfidf, y_train, y_test)\n",
    "        print(\"trees = \", t , \", Accuracy Score = \", acc_score) \n",
    "        acc_scores.append(acc_score)"
   ]
  },
  {
   "cell_type": "code",
   "execution_count": 50,
   "metadata": {},
   "outputs": [
    {
     "data": {
      "image/png": "[encoded data removed]",
      "text/plain": [
       "<Figure size 640x480 with 1 Axes>"
      ]
     },
     "metadata": {},
     "output_type": "display_data"
    }
   ],
   "source": [
    "# plot the results\n",
    "# 20 values in acc_scores \n",
    "for i in range(5):\n",
    "    plt.plot(trees, acc_scores[4*i:4*(i+1)], label=\"Min DF = \" + str(doc_freqs[i]), marker='o') \n",
    "plt.title(\"Accuracy for Different TFIDF and RF Hyperparameters\")\n",
    "plt.xlabel(\"Num Trees in RF\")\n",
    "plt.ylabel(\"Test Accuracy\")\n",
    "plt.legend()\n",
    "plt.show()"
   ]
  },
  {
   "cell_type": "markdown",
   "metadata": {},
   "source": [
    "Findings: The best test accuracy is around 66.67% with hyperparameters of min_df = 200 for the TFIDF vectorizer and n_estimators = 128 for the RF. The test accuracy is still quite low I'd say.\n",
    "Next attempt: I'll try these same hyperparameters for an ngram_range of (1, 3) to see if that adds more context."
   ]
  },
  {
   "cell_type": "code",
   "execution_count": 33,
   "metadata": {},
   "outputs": [
    {
     "name": "stdout",
     "output_type": "stream",
     "text": [
      "Min DF: 20 \tVocab Size: 102748\n",
      "[0.1875 0.125  0.6875]\n",
      "trees =  32 , Accuracy Score =  0.6241176470588236\n",
      "[0.296875 0.15625  0.546875]\n",
      "trees =  64 , Accuracy Score =  0.6547058823529411\n",
      "[0.3515625 0.2109375 0.4375   ]\n",
      "trees =  128 , Accuracy Score =  0.6529411764705882\n",
      "[0.26953125 0.1875     0.54296875]\n",
      "trees =  256 , Accuracy Score =  0.6514705882352941\n",
      "Min DF: 50 \tVocab Size: 39366\n",
      "[0.25   0.3125 0.4375]\n",
      "trees =  32 , Accuracy Score =  0.6326470588235295\n",
      "[0.265625 0.234375 0.5     ]\n",
      "trees =  64 , Accuracy Score =  0.6717647058823529\n",
      "[0.203125 0.234375 0.5625  ]\n",
      "trees =  128 , Accuracy Score =  0.6585294117647059\n",
      "[0.26171875 0.203125   0.53515625]\n",
      "trees =  256 , Accuracy Score =  0.6679411764705883\n",
      "Min DF: 100 \tVocab Size: 18740\n",
      "[0.3125 0.25   0.4375]\n",
      "trees =  32 , Accuracy Score =  0.6329411764705882\n",
      "[0.265625 0.203125 0.53125 ]\n",
      "trees =  64 , Accuracy Score =  0.6476470588235295\n",
      "[0.234375  0.1640625 0.6015625]\n",
      "trees =  128 , Accuracy Score =  0.6602941176470588\n",
      "[0.28125 0.1875  0.53125]\n",
      "trees =  256 , Accuracy Score =  0.6655882352941176\n",
      "Min DF: 200 \tVocab Size: 8910\n",
      "[0.34375 0.21875 0.4375 ]\n",
      "trees =  32 , Accuracy Score =  0.64\n",
      "[0.234375 0.203125 0.5625  ]\n",
      "trees =  64 , Accuracy Score =  0.6488235294117647\n",
      "[0.2734375 0.1875    0.5390625]\n",
      "trees =  128 , Accuracy Score =  0.6638235294117647\n",
      "[0.23046875 0.17578125 0.59375   ]\n",
      "trees =  256 , Accuracy Score =  0.6667647058823529\n"
     ]
    }
   ],
   "source": [
    "## now changing increasing the ngram_range to (1, 3) (include trigrams). also getting rid of some values in the ranges to reduce computation\n",
    "doc_freqs = [20, 50, 100, 200]\n",
    "trees = [32, 64, 128, 256]\n",
    "acc_scores = []\n",
    "for min_df in doc_freqs:\n",
    "    X_train_tfidf, X_test_tfidf, vocabulary_size = prep_tfidf(X_train, X_test, min_df, ngram_range=(1,3))\n",
    "    print(\"Min DF:\", min_df, \"\\tVocab Size:\", vocabulary_size)\n",
    "    for t in trees:\n",
    "        acc_score = rf_train_and_predict(t, X_train_tfidf, X_test_tfidf, y_train, y_test)\n",
    "        print(\"trees = \", t , \", Accuracy Score = \", acc_score) \n",
    "        acc_scores.append(acc_score)"
   ]
  },
  {
   "cell_type": "code",
   "execution_count": 34,
   "metadata": {},
   "outputs": [
    {
     "data": {
      "image/png": "[encoded data removed]",
      "text/plain": [
       "<Figure size 640x480 with 1 Axes>"
      ]
     },
     "metadata": {},
     "output_type": "display_data"
    }
   ],
   "source": [
    "# plot the results\n",
    "# 16 values in acc_scores \n",
    "for i in range(4):\n",
    "    plt.plot(trees, acc_scores[4*i:4*(i+1)], label=\"Min DF = \" + str(doc_freqs[i]), marker='o') \n",
    "plt.title(\"Accuracy for Different TFIDF and RF Hyperparameters\")\n",
    "plt.xlabel(\"Num Trees in RF\")\n",
    "plt.ylabel(\"Test Accuracy\")\n",
    "plt.legend()\n",
    "plt.show()"
   ]
  },
  {
   "cell_type": "markdown",
   "metadata": {},
   "source": [
    "Findings: The best test accuracy is around 67.1% with hyperparameters of min_df = 50 for the TFIDF vectorizer and n_estimators = 128 for the RF. It se"
   ]
  },
  {
   "cell_type": "markdown",
   "metadata": {},
   "source": [
    "### Try Gradient Boosted Classifier"
   ]
  },
  {
   "cell_type": "code",
   "execution_count": 31,
   "metadata": {},
   "outputs": [],
   "source": [
    "def gb_train_and_predict(lr, num_estimators, X_train_data, X_test_data, y_train_data, y_test_data):\n",
    "    clf = GradientBoostingClassifier(n_estimators=num_estimators, learning_rate=lr, verbose=1, n_iter_no_change=30) # this will set aside 0.1 of the training data as validation and stop early if there is no change within 30 itertations\n",
    "    clf.fit(X_train_data, y_train_data)\n",
    "    preds = clf.predict_proba(X_test_data)\n",
    "    class_preds = get_class_preds(preds)\n",
    "    return accuracy_score(y_test_data, class_preds)"
   ]
  },
  {
   "cell_type": "code",
   "execution_count": null,
   "metadata": {},
   "outputs": [
    {
     "name": "stdout",
     "output_type": "stream",
     "text": [
      "Min DF: 50 \tVocab Size: 39366\n",
      "LEARNING RATE: 0.75 \tNUM ESTIMATORS: 80\n",
      "      Iter       Train Loss   Remaining Time \n",
      "         1           0.9658            8.41m\n",
      "         2           0.8808            8.32m\n",
      "         3           0.8386            8.22m\n",
      "         4           0.8090            8.11m\n",
      "         5           0.7830            8.01m\n",
      "         6           0.7605            7.91m\n",
      "         7           0.7409            7.81m\n",
      "         8           0.7234            7.70m\n",
      "         9           0.7093            7.59m\n",
      "        10           0.6954            7.48m\n",
      "        20           0.5915            6.41m\n",
      "        30           0.5213            5.34m\n",
      "        40           0.4702            4.27m\n",
      "        50           0.4273            3.20m\n",
      "        60           0.3906            2.13m\n",
      "        70           0.3595            1.07m\n",
      "        80           0.3314            0.00s\n",
      "ACCURACY: 0.6947058823529412\n",
      "LEARNING RATE: 0.5 \tNUM ESTIMATORS: 80\n",
      "      Iter       Train Loss   Remaining Time \n",
      "         1           0.9944            8.42m\n",
      "         2           0.9286            8.33m\n",
      "         3           0.8903            8.22m\n",
      "         4           0.8580            8.12m\n",
      "         5           0.8334            8.01m\n",
      "         6           0.8123            7.91m\n",
      "         7           0.7931            7.80m\n",
      "         8           0.7788            7.70m\n",
      "         9           0.7655            7.59m\n",
      "        10           0.7512            7.48m\n",
      "        20           0.6538            6.42m\n",
      "        30           0.5923            5.35m\n",
      "        40           0.5437            4.28m\n",
      "        50           0.5045            3.21m\n",
      "        60           0.4707            2.14m\n",
      "        70           0.4406            1.07m\n",
      "        80           0.4163            0.00s\n",
      "ACCURACY: 0.7158823529411765\n",
      "LEARNING RATE: 0.1 \tNUM ESTIMATORS: 80\n",
      "      Iter       Train Loss   Remaining Time \n",
      "         1           1.0674            8.43m\n",
      "         2           1.0475            8.35m\n",
      "         3           1.0297            8.25m\n",
      "         4           1.0148            8.15m\n",
      "         5           1.0013            8.05m\n",
      "         6           0.9868            7.93m\n",
      "         7           0.9749            7.82m\n",
      "         8           0.9641            7.71m\n",
      "         9           0.9529            7.61m\n",
      "        10           0.9437            7.50m\n",
      "        20           0.8700            6.43m\n",
      "        30           0.8196            5.36m\n",
      "        40           0.7839            4.29m\n"
     ]
    }
   ],
   "source": [
    "learning_rates = [0.75, 0.5, 0.1] \n",
    "doc_freqs = [50]\n",
    "acc_scores = []\n",
    "for min_df in doc_freqs:\n",
    "    X_train_tfidf, X_test_tfidf, vocabulary_size = prep_tfidf(X_train, X_test, min_df=50, ngram_range=(1,3))\n",
    "    print(\"Min DF:\", min_df, \"\\tVocab Size:\", vocabulary_size)\n",
    "    for lr in learning_rates:\n",
    "        print(\"LEARNING RATE:\", lr, \"\\tNUM ESTIMATORS:\", 80)\n",
    "        acc = gb_train_and_predict(lr, 80, X_train_tfidf, X_test_tfidf, y_train, y_test)\n",
    "        print(\"ACCURACY:\", acc)\n",
    "        acc_scores.append(acc)"
   ]
  },
  {
   "cell_type": "code",
   "execution_count": 32,
   "metadata": {},
   "outputs": [
    {
     "name": "stdout",
     "output_type": "stream",
     "text": [
      "Min DF: 50 \tVocab Size: 39366\n",
      "LEARNING RATE: 0.1 \tNUM ESTIMATORS: 80\n",
      "      Iter       Train Loss   Remaining Time \n",
      "         1           1.0675            8.34m\n",
      "         2           1.0472            8.28m\n",
      "         3           1.0299            8.19m\n",
      "         4           1.0136            8.08m\n",
      "         5           0.9996            7.98m\n",
      "         6           0.9867            7.87m\n",
      "         7           0.9744            7.77m\n",
      "         8           0.9639            7.67m\n",
      "         9           0.9530            7.56m\n",
      "        10           0.9441            7.46m\n",
      "        20           0.8682            6.39m\n",
      "        30           0.8202            5.33m\n",
      "        40           0.7845            4.26m\n",
      "        50           0.7546            3.20m\n",
      "        60           0.7293            2.13m\n",
      "        70           0.7074            1.07m\n",
      "        80           0.6872            0.00s\n",
      "ACCURACY: 0.6982352941176471\n"
     ]
    }
   ],
   "source": [
    "# since the kernel died unexpectedly for the above cell, i will just run it for a learning rate of 0.1\n",
    "min_df = 50\n",
    "lr = 0.1\n",
    "X_train_tfidf, X_test_tfidf, vocabulary_size = prep_tfidf(X_train, X_test, min_df=50, ngram_range=(1,3))\n",
    "print(\"Min DF:\", min_df, \"\\tVocab Size:\", vocabulary_size)\n",
    "print(\"LEARNING RATE:\", lr, \"\\tNUM ESTIMATORS:\", 80)\n",
    "acc = gb_train_and_predict(lr, 80, X_train_tfidf, X_test_tfidf, y_train, y_test)\n",
    "print(\"ACCURACY:\", acc)"
   ]
  },
  {
   "cell_type": "code",
   "execution_count": 33,
   "metadata": {},
   "outputs": [
    {
     "data": {
      "image/png": "[encoded data removed]",
      "text/plain": [
       "<Figure size 640x480 with 1 Axes>"
      ]
     },
     "metadata": {},
     "output_type": "display_data"
    }
   ],
   "source": [
    "acc_scores = [0.6947058823529412, 0.7158823529411765, 0.6982352941176471]\n",
    "learning_rates = [0.75, 0.5, 0.1]\n",
    "plt.plot(learning_rates, acc_scores)\n",
    "plt.xlabel(\"Learning Rate\")\n",
    "plt.ylabel(\"Accuracy\")\n",
    "plt.title(\"Learning Rate vs Accuracy Score for Gradient Boosted Classifier\")\n",
    "plt.show()"
   ]
  },
  {
   "cell_type": "markdown",
   "metadata": {},
   "source": [
    "Findings: For the gradient boosted classifier, the best hyperparameters included a learning rate of 0.5 with around 80 n_estimators. "
   ]
  },
  {
   "cell_type": "markdown",
   "metadata": {},
   "source": [
    "### Final Model Training and Results"
   ]
  },
  {
   "cell_type": "markdown",
   "metadata": {},
   "source": [
    "**Overall, out of the RandomForestClassifier and the GradientBoostedClassifer, the best model was the GradientBoostedClassifier with a test accuracy of around 71.6%. The hyperparameters to use are min_df = 50, n_gram_range=(1,3), n_estimators=80, and learning_rate=0.5.**"
   ]
  },
  {
   "cell_type": "code",
   "execution_count": 32,
   "metadata": {},
   "outputs": [
    {
     "name": "stdout",
     "output_type": "stream",
     "text": [
      "      Iter       Train Loss   Remaining Time \n",
      "         1           0.9943            8.52m\n",
      "         2           0.9277            8.41m\n",
      "         3           0.8891            8.32m\n",
      "         4           0.8591            8.20m\n",
      "         5           0.8302            8.08m\n",
      "         6           0.8094            7.97m\n",
      "         7           0.7909            7.86m\n",
      "         8           0.7756            7.76m\n",
      "         9           0.7599            7.65m\n",
      "        10           0.7464            7.54m\n",
      "        20           0.6486            6.47m\n",
      "        30           0.5854            5.39m\n",
      "        40           0.5376            4.30m\n",
      "        50           0.5000            3.22m\n",
      "        60           0.4686            2.14m\n",
      "        70           0.4377            1.07m\n",
      "        80           0.4119            0.00s\n"
     ]
    },
    {
     "data": {
      "text/html": [
       "<style>#sk-container-id-1 {\n",
       "  /* Definition of color scheme common for light and dark mode */\n",
       "  --sklearn-color-text: black;\n",
       "  --sklearn-color-line: gray;\n",
       "  /* Definition of color scheme for unfitted estimators */\n",
       "  --sklearn-color-unfitted-level-0: #fff5e6;\n",
       "  --sklearn-color-unfitted-level-1: #f6e4d2;\n",
       "  --sklearn-color-unfitted-level-2: #ffe0b3;\n",
       "  --sklearn-color-unfitted-level-3: chocolate;\n",
       "  /* Definition of color scheme for fitted estimators */\n",
       "  --sklearn-color-fitted-level-0: #f0f8ff;\n",
       "  --sklearn-color-fitted-level-1: #d4ebff;\n",
       "  --sklearn-color-fitted-level-2: #b3dbfd;\n",
       "  --sklearn-color-fitted-level-3: cornflowerblue;\n",
       "\n",
       "  /* Specific color for light theme */\n",
       "  --sklearn-color-text-on-default-background: var(--sg-text-color, var(--theme-code-foreground, var(--jp-content-font-color1, black)));\n",
       "  --sklearn-color-background: var(--sg-background-color, var(--theme-background, var(--jp-layout-color0, white)));\n",
       "  --sklearn-color-border-box: var(--sg-text-color, var(--theme-code-foreground, var(--jp-content-font-color1, black)));\n",
       "  --sklearn-color-icon: #696969;\n",
       "\n",
       "  @media (prefers-color-scheme: dark) {\n",
       "    /* Redefinition of color scheme for dark theme */\n",
       "    --sklearn-color-text-on-default-background: var(--sg-text-color, var(--theme-code-foreground, var(--jp-content-font-color1, white)));\n",
       "    --sklearn-color-background: var(--sg-background-color, var(--theme-background, var(--jp-layout-color0, #111)));\n",
       "    --sklearn-color-border-box: var(--sg-text-color, var(--theme-code-foreground, var(--jp-content-font-color1, white)));\n",
       "    --sklearn-color-icon: #878787;\n",
       "  }\n",
       "}\n",
       "\n",
       "#sk-container-id-1 {\n",
       "  color: var(--sklearn-color-text);\n",
       "}\n",
       "\n",
       "#sk-container-id-1 pre {\n",
       "  padding: 0;\n",
       "}\n",
       "\n",
       "#sk-container-id-1 input.sk-hidden--visually {\n",
       "  border: 0;\n",
       "  clip: rect(1px 1px 1px 1px);\n",
       "  clip: rect(1px, 1px, 1px, 1px);\n",
       "  height: 1px;\n",
       "  margin: -1px;\n",
       "  overflow: hidden;\n",
       "  padding: 0;\n",
       "  position: absolute;\n",
       "  width: 1px;\n",
       "}\n",
       "\n",
       "#sk-container-id-1 div.sk-dashed-wrapped {\n",
       "  border: 1px dashed var(--sklearn-color-line);\n",
       "  margin: 0 0.4em 0.5em 0.4em;\n",
       "  box-sizing: border-box;\n",
       "  padding-bottom: 0.4em;\n",
       "  background-color: var(--sklearn-color-background);\n",
       "}\n",
       "\n",
       "#sk-container-id-1 div.sk-container {\n",
       "  /* jupyter's `normalize.less` sets `[hidden] { display: none; }`\n",
       "     but bootstrap.min.css set `[hidden] { display: none !important; }`\n",
       "     so we also need the `!important` here to be able to override the\n",
       "     default hidden behavior on the sphinx rendered scikit-learn.org.\n",
       "     See: https://github.com/scikit-learn/scikit-learn/issues/21755 */\n",
       "  display: inline-block !important;\n",
       "  position: relative;\n",
       "}\n",
       "\n",
       "#sk-container-id-1 div.sk-text-repr-fallback {\n",
       "  display: none;\n",
       "}\n",
       "\n",
       "div.sk-parallel-item,\n",
       "div.sk-serial,\n",
       "div.sk-item {\n",
       "  /* draw centered vertical line to link estimators */\n",
       "  background-image: linear-gradient(var(--sklearn-color-text-on-default-background), var(--sklearn-color-text-on-default-background));\n",
       "  background-size: 2px 100%;\n",
       "  background-repeat: no-repeat;\n",
       "  background-position: center center;\n",
       "}\n",
       "\n",
       "/* Parallel-specific style estimator block */\n",
       "\n",
       "#sk-container-id-1 div.sk-parallel-item::after {\n",
       "  content: \"\";\n",
       "  width: 100%;\n",
       "  border-bottom: 2px solid var(--sklearn-color-text-on-default-background);\n",
       "  flex-grow: 1;\n",
       "}\n",
       "\n",
       "#sk-container-id-1 div.sk-parallel {\n",
       "  display: flex;\n",
       "  align-items: stretch;\n",
       "  justify-content: center;\n",
       "  background-color: var(--sklearn-color-background);\n",
       "  position: relative;\n",
       "}\n",
       "\n",
       "#sk-container-id-1 div.sk-parallel-item {\n",
       "  display: flex;\n",
       "  flex-direction: column;\n",
       "}\n",
       "\n",
       "#sk-container-id-1 div.sk-parallel-item:first-child::after {\n",
       "  align-self: flex-end;\n",
       "  width: 50%;\n",
       "}\n",
       "\n",
       "#sk-container-id-1 div.sk-parallel-item:last-child::after {\n",
       "  align-self: flex-start;\n",
       "  width: 50%;\n",
       "}\n",
       "\n",
       "#sk-container-id-1 div.sk-parallel-item:only-child::after {\n",
       "  width: 0;\n",
       "}\n",
       "\n",
       "/* Serial-specific style estimator block */\n",
       "\n",
       "#sk-container-id-1 div.sk-serial {\n",
       "  display: flex;\n",
       "  flex-direction: column;\n",
       "  align-items: center;\n",
       "  background-color: var(--sklearn-color-background);\n",
       "  padding-right: 1em;\n",
       "  padding-left: 1em;\n",
       "}\n",
       "\n",
       "\n",
       "/* Toggleable style: style used for estimator/Pipeline/ColumnTransformer box that is\n",
       "clickable and can be expanded/collapsed.\n",
       "- Pipeline and ColumnTransformer use this feature and define the default style\n",
       "- Estimators will overwrite some part of the style using the `sk-estimator` class\n",
       "*/\n",
       "\n",
       "/* Pipeline and ColumnTransformer style (default) */\n",
       "\n",
       "#sk-container-id-1 div.sk-toggleable {\n",
       "  /* Default theme specific background. It is overwritten whether we have a\n",
       "  specific estimator or a Pipeline/ColumnTransformer */\n",
       "  background-color: var(--sklearn-color-background);\n",
       "}\n",
       "\n",
       "/* Toggleable label */\n",
       "#sk-container-id-1 label.sk-toggleable__label {\n",
       "  cursor: pointer;\n",
       "  display: block;\n",
       "  width: 100%;\n",
       "  margin-bottom: 0;\n",
       "  padding: 0.5em;\n",
       "  box-sizing: border-box;\n",
       "  text-align: center;\n",
       "}\n",
       "\n",
       "#sk-container-id-1 label.sk-toggleable__label-arrow:before {\n",
       "  /* Arrow on the left of the label */\n",
       "  content: \"▸\";\n",
       "  float: left;\n",
       "  margin-right: 0.25em;\n",
       "  color: var(--sklearn-color-icon);\n",
       "}\n",
       "\n",
       "#sk-container-id-1 label.sk-toggleable__label-arrow:hover:before {\n",
       "  color: var(--sklearn-color-text);\n",
       "}\n",
       "\n",
       "/* Toggleable content - dropdown */\n",
       "\n",
       "#sk-container-id-1 div.sk-toggleable__content {\n",
       "  max-height: 0;\n",
       "  max-width: 0;\n",
       "  overflow: hidden;\n",
       "  text-align: left;\n",
       "  /* unfitted */\n",
       "  background-color: var(--sklearn-color-unfitted-level-0);\n",
       "}\n",
       "\n",
       "#sk-container-id-1 div.sk-toggleable__content.fitted {\n",
       "  /* fitted */\n",
       "  background-color: var(--sklearn-color-fitted-level-0);\n",
       "}\n",
       "\n",
       "#sk-container-id-1 div.sk-toggleable__content pre {\n",
       "  margin: 0.2em;\n",
       "  border-radius: 0.25em;\n",
       "  color: var(--sklearn-color-text);\n",
       "  /* unfitted */\n",
       "  background-color: var(--sklearn-color-unfitted-level-0);\n",
       "}\n",
       "\n",
       "#sk-container-id-1 div.sk-toggleable__content.fitted pre {\n",
       "  /* unfitted */\n",
       "  background-color: var(--sklearn-color-fitted-level-0);\n",
       "}\n",
       "\n",
       "#sk-container-id-1 input.sk-toggleable__control:checked~div.sk-toggleable__content {\n",
       "  /* Expand drop-down */\n",
       "  max-height: 200px;\n",
       "  max-width: 100%;\n",
       "  overflow: auto;\n",
       "}\n",
       "\n",
       "#sk-container-id-1 input.sk-toggleable__control:checked~label.sk-toggleable__label-arrow:before {\n",
       "  content: \"▾\";\n",
       "}\n",
       "\n",
       "/* Pipeline/ColumnTransformer-specific style */\n",
       "\n",
       "#sk-container-id-1 div.sk-label input.sk-toggleable__control:checked~label.sk-toggleable__label {\n",
       "  color: var(--sklearn-color-text);\n",
       "  background-color: var(--sklearn-color-unfitted-level-2);\n",
       "}\n",
       "\n",
       "#sk-container-id-1 div.sk-label.fitted input.sk-toggleable__control:checked~label.sk-toggleable__label {\n",
       "  background-color: var(--sklearn-color-fitted-level-2);\n",
       "}\n",
       "\n",
       "/* Estimator-specific style */\n",
       "\n",
       "/* Colorize estimator box */\n",
       "#sk-container-id-1 div.sk-estimator input.sk-toggleable__control:checked~label.sk-toggleable__label {\n",
       "  /* unfitted */\n",
       "  background-color: var(--sklearn-color-unfitted-level-2);\n",
       "}\n",
       "\n",
       "#sk-container-id-1 div.sk-estimator.fitted input.sk-toggleable__control:checked~label.sk-toggleable__label {\n",
       "  /* fitted */\n",
       "  background-color: var(--sklearn-color-fitted-level-2);\n",
       "}\n",
       "\n",
       "#sk-container-id-1 div.sk-label label.sk-toggleable__label,\n",
       "#sk-container-id-1 div.sk-label label {\n",
       "  /* The background is the default theme color */\n",
       "  color: var(--sklearn-color-text-on-default-background);\n",
       "}\n",
       "\n",
       "/* On hover, darken the color of the background */\n",
       "#sk-container-id-1 div.sk-label:hover label.sk-toggleable__label {\n",
       "  color: var(--sklearn-color-text);\n",
       "  background-color: var(--sklearn-color-unfitted-level-2);\n",
       "}\n",
       "\n",
       "/* Label box, darken color on hover, fitted */\n",
       "#sk-container-id-1 div.sk-label.fitted:hover label.sk-toggleable__label.fitted {\n",
       "  color: var(--sklearn-color-text);\n",
       "  background-color: var(--sklearn-color-fitted-level-2);\n",
       "}\n",
       "\n",
       "/* Estimator label */\n",
       "\n",
       "#sk-container-id-1 div.sk-label label {\n",
       "  font-family: monospace;\n",
       "  font-weight: bold;\n",
       "  display: inline-block;\n",
       "  line-height: 1.2em;\n",
       "}\n",
       "\n",
       "#sk-container-id-1 div.sk-label-container {\n",
       "  text-align: center;\n",
       "}\n",
       "\n",
       "/* Estimator-specific */\n",
       "#sk-container-id-1 div.sk-estimator {\n",
       "  font-family: monospace;\n",
       "  border: 1px dotted var(--sklearn-color-border-box);\n",
       "  border-radius: 0.25em;\n",
       "  box-sizing: border-box;\n",
       "  margin-bottom: 0.5em;\n",
       "  /* unfitted */\n",
       "  background-color: var(--sklearn-color-unfitted-level-0);\n",
       "}\n",
       "\n",
       "#sk-container-id-1 div.sk-estimator.fitted {\n",
       "  /* fitted */\n",
       "  background-color: var(--sklearn-color-fitted-level-0);\n",
       "}\n",
       "\n",
       "/* on hover */\n",
       "#sk-container-id-1 div.sk-estimator:hover {\n",
       "  /* unfitted */\n",
       "  background-color: var(--sklearn-color-unfitted-level-2);\n",
       "}\n",
       "\n",
       "#sk-container-id-1 div.sk-estimator.fitted:hover {\n",
       "  /* fitted */\n",
       "  background-color: var(--sklearn-color-fitted-level-2);\n",
       "}\n",
       "\n",
       "/* Specification for estimator info (e.g. \"i\" and \"?\") */\n",
       "\n",
       "/* Common style for \"i\" and \"?\" */\n",
       "\n",
       ".sk-estimator-doc-link,\n",
       "a:link.sk-estimator-doc-link,\n",
       "a:visited.sk-estimator-doc-link {\n",
       "  float: right;\n",
       "  font-size: smaller;\n",
       "  line-height: 1em;\n",
       "  font-family: monospace;\n",
       "  background-color: var(--sklearn-color-background);\n",
       "  border-radius: 1em;\n",
       "  height: 1em;\n",
       "  width: 1em;\n",
       "  text-decoration: none !important;\n",
       "  margin-left: 1ex;\n",
       "  /* unfitted */\n",
       "  border: var(--sklearn-color-unfitted-level-1) 1pt solid;\n",
       "  color: var(--sklearn-color-unfitted-level-1);\n",
       "}\n",
       "\n",
       ".sk-estimator-doc-link.fitted,\n",
       "a:link.sk-estimator-doc-link.fitted,\n",
       "a:visited.sk-estimator-doc-link.fitted {\n",
       "  /* fitted */\n",
       "  border: var(--sklearn-color-fitted-level-1) 1pt solid;\n",
       "  color: var(--sklearn-color-fitted-level-1);\n",
       "}\n",
       "\n",
       "/* On hover */\n",
       "div.sk-estimator:hover .sk-estimator-doc-link:hover,\n",
       ".sk-estimator-doc-link:hover,\n",
       "div.sk-label-container:hover .sk-estimator-doc-link:hover,\n",
       ".sk-estimator-doc-link:hover {\n",
       "  /* unfitted */\n",
       "  background-color: var(--sklearn-color-unfitted-level-3);\n",
       "  color: var(--sklearn-color-background);\n",
       "  text-decoration: none;\n",
       "}\n",
       "\n",
       "div.sk-estimator.fitted:hover .sk-estimator-doc-link.fitted:hover,\n",
       ".sk-estimator-doc-link.fitted:hover,\n",
       "div.sk-label-container:hover .sk-estimator-doc-link.fitted:hover,\n",
       ".sk-estimator-doc-link.fitted:hover {\n",
       "  /* fitted */\n",
       "  background-color: var(--sklearn-color-fitted-level-3);\n",
       "  color: var(--sklearn-color-background);\n",
       "  text-decoration: none;\n",
       "}\n",
       "\n",
       "/* Span, style for the box shown on hovering the info icon */\n",
       ".sk-estimator-doc-link span {\n",
       "  display: none;\n",
       "  z-index: 9999;\n",
       "  position: relative;\n",
       "  font-weight: normal;\n",
       "  right: .2ex;\n",
       "  padding: .5ex;\n",
       "  margin: .5ex;\n",
       "  width: min-content;\n",
       "  min-width: 20ex;\n",
       "  max-width: 50ex;\n",
       "  color: var(--sklearn-color-text);\n",
       "  box-shadow: 2pt 2pt 4pt #999;\n",
       "  /* unfitted */\n",
       "  background: var(--sklearn-color-unfitted-level-0);\n",
       "  border: .5pt solid var(--sklearn-color-unfitted-level-3);\n",
       "}\n",
       "\n",
       ".sk-estimator-doc-link.fitted span {\n",
       "  /* fitted */\n",
       "  background: var(--sklearn-color-fitted-level-0);\n",
       "  border: var(--sklearn-color-fitted-level-3);\n",
       "}\n",
       "\n",
       ".sk-estimator-doc-link:hover span {\n",
       "  display: block;\n",
       "}\n",
       "\n",
       "/* \"?\"-specific style due to the `<a>` HTML tag */\n",
       "\n",
       "#sk-container-id-1 a.estimator_doc_link {\n",
       "  float: right;\n",
       "  font-size: 1rem;\n",
       "  line-height: 1em;\n",
       "  font-family: monospace;\n",
       "  background-color: var(--sklearn-color-background);\n",
       "  border-radius: 1rem;\n",
       "  height: 1rem;\n",
       "  width: 1rem;\n",
       "  text-decoration: none;\n",
       "  /* unfitted */\n",
       "  color: var(--sklearn-color-unfitted-level-1);\n",
       "  border: var(--sklearn-color-unfitted-level-1) 1pt solid;\n",
       "}\n",
       "\n",
       "#sk-container-id-1 a.estimator_doc_link.fitted {\n",
       "  /* fitted */\n",
       "  border: var(--sklearn-color-fitted-level-1) 1pt solid;\n",
       "  color: var(--sklearn-color-fitted-level-1);\n",
       "}\n",
       "\n",
       "/* On hover */\n",
       "#sk-container-id-1 a.estimator_doc_link:hover {\n",
       "  /* unfitted */\n",
       "  background-color: var(--sklearn-color-unfitted-level-3);\n",
       "  color: var(--sklearn-color-background);\n",
       "  text-decoration: none;\n",
       "}\n",
       "\n",
       "#sk-container-id-1 a.estimator_doc_link.fitted:hover {\n",
       "  /* fitted */\n",
       "  background-color: var(--sklearn-color-fitted-level-3);\n",
       "}\n",
       "</style><div id=\"sk-container-id-1\" class=\"sk-top-container\"><div class=\"sk-text-repr-fallback\"><pre>GradientBoostingClassifier(learning_rate=0.5, n_estimators=80,\n",
       "                           n_iter_no_change=30, verbose=1)</pre><b>In a Jupyter environment, please rerun this cell to show the HTML representation or trust the notebook. <br />On GitHub, the HTML representation is unable to render, please try loading this page with nbviewer.org.</b></div><div class=\"sk-container\" hidden><div class=\"sk-item\"><div class=\"sk-estimator fitted sk-toggleable\"><input class=\"sk-toggleable__control sk-hidden--visually\" id=\"sk-estimator-id-1\" type=\"checkbox\" checked><label for=\"sk-estimator-id-1\" class=\"sk-toggleable__label fitted sk-toggleable__label-arrow fitted\">&nbsp;&nbsp;GradientBoostingClassifier<a class=\"sk-estimator-doc-link fitted\" rel=\"noreferrer\" target=\"_blank\" href=\"https://scikit-learn.org/1.4/modules/generated/sklearn.ensemble.GradientBoostingClassifier.html\">?<span>Documentation for GradientBoostingClassifier</span></a><span class=\"sk-estimator-doc-link fitted\">i<span>Fitted</span></span></label><div class=\"sk-toggleable__content fitted\"><pre>GradientBoostingClassifier(learning_rate=0.5, n_estimators=80,\n",
       "                           n_iter_no_change=30, verbose=1)</pre></div> </div></div></div></div>"
      ],
      "text/plain": [
       "GradientBoostingClassifier(learning_rate=0.5, n_estimators=80,\n",
       "                           n_iter_no_change=30, verbose=1)"
      ]
     },
     "execution_count": 32,
     "metadata": {},
     "output_type": "execute_result"
    }
   ],
   "source": [
    "# Optimal Hyperparameters\n",
    "min_df = 50\n",
    "ngram_range = (1, 3)\n",
    "lr = 0.5\n",
    "n_estimators=80\n",
    "\n",
    "# Vectorize data\n",
    "X_train_tfidf, X_test_tfidf, vocabulary_size = prep_tfidf(X_train, X_test, min_df=min_df, ngram_range=ngram_range)\n",
    "\n",
    "# Train, Predict, and Validate Model\n",
    "clf = GradientBoostingClassifier(n_estimators=n_estimators, learning_rate=lr, verbose=1, n_iter_no_change=30) # this will set aside 0.1 of the training data as validation and stop early if there is no change within 30 itertations\n",
    "\n",
    "clf.fit(X_train_tfidf, y_train)"
   ]
  },
  {
   "cell_type": "code",
   "execution_count": 33,
   "metadata": {},
   "outputs": [
    {
     "name": "stdout",
     "output_type": "stream",
     "text": [
      "0.7058823529411765\n"
     ]
    }
   ],
   "source": [
    "# Make predictions\n",
    "preds = clf.predict_proba(X_test_tfidf)\n",
    "\n",
    "class_preds = get_class_preds(preds)\n",
    " \n",
    "accuracy = accuracy_score(y_test, class_preds)\n",
    "\n",
    "# Print Accuracy Scrore\n",
    "print(accuracy)"
   ]
  },
  {
   "cell_type": "code",
   "execution_count": 35,
   "metadata": {},
   "outputs": [
    {
     "name": "stdout",
     "output_type": "stream",
     "text": [
      "ARTICLE:  Bipartisan Senate group seeks to block military funds to Syria . A bipartisan group of senators have introduced legislation to block the U.S. from escalating its involvement in the Syrian civil war as concerns mount on Capitol Hill over the Obama administration 's plan to directly arm rebels .\n",
      "Senators Rand Paul , R-Ky. ; Mike Lee , R-Utah ; Tom Udall , D-N.M , ; and Chris Murphy , D-Conn. , introduced the bill Thursday to prohibit the Defense Department and intelligence agencies from funding operations in Syria .\n",
      "Earlier this month , Obama announced the U.S. would begin providing arms and ammunition , after President Bashar Assad 's military dealt the rebels serious setbacks . The conflict is now in its third year with some 93,000 estimated dead .\n",
      "Paul said he was disturbed by the president 's decision to reverse course and arm the rebels , fearing getting mired in a conflict in which little is known about the fighters battling the regime .\n",
      "`` Engaging in yet another conflict in the Middle East with no vote or Congressional oversight compounds the severity of this situation , '' Paul said in a statement . `` The American people deserve real deliberation by their elected officials before we send arms to a region rife with extremists who seek to threaten the U.S. and her allies . ''\n",
      "Murphy expressed concern over the possibility that American weapons and money could fall into the hands of terrorist organizations .\n",
      "`` We should be extremely wary of allowing the United States to be drawn into a complicated proxy war that could mire our country for years at a potentially incalculable cost to U.S. taxpayers and America 's reputation at home and abroad , '' Murphy said .\n",
      "The senators said the bill would not apply to non-lethal humanitarian assistance for the Syrian people provided by the U.S .\n",
      "The Senate Foreign Relations Committee voted in May to provide weapons to rebels in Syria , as well as military training to vetted rebel groups and sanctions against anyone who sells oil or transfers arms to the Assad regime .\n",
      "Speaking at a press conference in Berlin on Wednesday , Obama refused to describe the type of military support the U.S. will give to Syrian rebels . He praised a decision by world leaders at the G-8 summit in Northern Ireland to seek a negotiated peace .\n",
      "Obama said even though leaders could not agree on whether Assad must go , he has decided it is not possible for Assad to regain legitimacy .\n",
      "ACTUAL LABEL:  2\n",
      "PREDICTED LABEL:  0\n",
      "---\n",
      "\n",
      "ARTICLE:  Guns and the Economy . The firearms industry offers well-paying jobs , blossoming retail sales , and—liberals ’ favorite—whopping tax revenue . But threats of new regulations and bans , combined with the overwhelming power of the executive branch when it comes to gun control , are putting at risk the industry ’ s positive role in the economy . Katie Pavlich investigates for ███ Magazine . -- -- -- -- -- -- -- -- -- -\n",
      "... Overall , the combined size of the U.S. commercial gun and ammunition market totals around $ 32 billion in economic impact nationwide .\n",
      "According to the National Shooting Sports Foundation ( NSSF ) , in 2011 alone , industry equipment expenditures hit $ 5.3 billion . Firearms make up $ 2.4 billion of that figure , while ammunition for rifles , handguns and shotguns totals $ 693,249,814 . Other accessories like telescopic sights , decoys and game calls , handloading equipment , components , other hunting and shooting equipment , hunting dogs and associated costs make up the rest . Total spending by all hunters tops $ 24 billion each year . The majority of these items are purchased in sporting goods stores , specialty shops and pro-shops employing thousands .\n",
      "There are nearly 60,000 gun dealers in the U.S . The average salary of a gun industry worker is $ 140,000 per year , according to First Research . Nearly 100,000 people are employed directly by the industry while another 111,000 are employed indirectly .\n",
      "Take Turner ’ s Outdoorsman , a California company founded in 1971 with 15 stores and more than 300 employees .\n",
      "“ Our employees have medical benefits available to them , ” Turner ’ s Outdoorsman Vice President of Operations Bill Ortiz tells ███ . “ We ’ re matching a 401k for the third year in a row , this year at 4 percent . Vacation , holidays , all of those benefits . ”\n",
      "When Ortiz talks about employees and benefits , he isn ’ t just talking about management or senior positions . Basic sales and cashier positions are eligible for benefits .\n",
      "Beyond providing well-paying jobs to hundreds of people , Turner ’ s operations benefits the local real estate market through leases for their stores . Outside of their stores and distribution centers , Turner ’ s partakes in a retail tackle show each year to showcase and support vendors whose goods are sold by the company . At the show , Turner ’ s sets up a full-sized store to allow vendors to sell their goods .\n",
      "The show attracts 15,000 consumers every year who test out countless amounts of new firearms . The show setup generates in a week what one store would have generated in a month . The owner of the rented facility gets the gate and parking lots sales during the event , and vendors and people working concessions see a positive impact on their bottom line .\n",
      "“ There are many vendors that don ’ t sell stuff in our stores day in and day out that are allowed to come—guys that do multiple earplugs and other types of shooting-related things that we don ’ t sell , ” Ortiz says . “ Because of our accounts and the size of our accounts , we ’ re probably responsible for quite a few sales representatives in Southern California that wouldn ’ t necessarily be employed if it wasn ’ t for Turner ’ s and an account like Turner ’ s . ”\n",
      "Sales contribute to higher profits and more taxes at the local , state and federal level , not to mention that employment with the company produces more income tax and property tax . Surprisingly , despite the many gun control measures it has in place , California has one of the highest number of Federal Firearms Licensees in the country .\n",
      "“ I don ’ t think it ’ s widely appreciated just how internationally connected the U.S. firearms sector is , ” Heritage Foundation Senior Research Fellow Ted Bromund , Ph.D. , tells ███ .\n",
      "Firearms imports are approximately 35 percent of the U.S. firearms market , according to the ATF and United States International Trade Commission . About 5.5 million are manufactured each year in the U.S. , with approximately 250,000 being exported by the U.S. while 3.5 million additional firearms are imported from other countries , totaling 9 million new firearms in the U.S. commercial market each year .\n",
      "“ There are a lot of countries … [ from which ] the U.S. imports at least 10,000 firearms a year . Slightly over half of them are handguns and the remainder being rifles and shotguns , ” Bromund says . “ What you see is that this is … worldwide traffic directed to the United States . ”\n",
      "SpringField Armory , for example , is located in Croatia , and one of the company ’ s most popular pistols , the Spring- Field XD semi-automatic handgun , is manufactured there . Beretta Italy manufactures shotguns and exports them to the United States .\n",
      "Brazil serves as the largest foreign commercial exporter to the United States and exported 846,619 firearms in 2011 . Austria was second , coming in at 522,638 , according to ATF . Germany , Belgium , Russia , Turkey , Canada , Romania , Czech Republic , Finland , Spain , Italy and Croatia and many others all depend on purchases from the United States .\n",
      "Many of the countries currently exporting to the United States are part of a fragile European Union that ’ s already on the brink and has very little economic growth . Eighty-five percent of the commercial firearms that are sold in the world for commercial uses are used in the U.S. marketplace . In 2012 , more than 100 countries attended the firearms industry ’ s annual trade show known as the SHOT Show . SHOT is also the fifth-largest annual trade show held in Las Vegas .\n",
      "“ We want to have that trade to be strong , ” Executive Director of the FireArms Import/Export Roundtable Trade Group Johanna Reeves tells ███ . “ If our ability to deal international is impacted negatively , then what that ’ s going to do is force our allies to go somewhere else . And who are they going to go to ? China . ”\n",
      "But is international trade really up for grabs when it comes to new gun control measures ? Absolutely . In fact , many expected President Obama to take advantage of this readily available power grab—the banning of imports—a long time ago .\n",
      "“ They don ’ t even have to do anything by legislation to have an impact on the industry because the powers they have … through two [ existing ] laws : [ the ] Gun Control Act and Arms Export Control Act , ” Reeves says . “ Congress gave ATF enormous power in what they can allow and disallow for imports . ”\n",
      "The executive branch has power in this area for two main reasons . Current law gives ATF unfettered justification or power to decide what is and what is not “ sporting. ” The United States only allows the import of firearms that meet this definition and , therefore , ATF has unrestricted power over what ’ s importable or not .\n",
      "Excerpted from ███ Magazine 's May feature , `` A Force for Good : Guns and the Economy '' by Katie Pavlich . To read more of Pavlich 's report , subscribe to ███ Magazine today .\n",
      "ACTUAL LABEL:  2\n",
      "PREDICTED LABEL:  1\n",
      "---\n",
      "\n",
      "ARTICLE:  Prison Populations Drop by 100,000 During Pandemic . Humera Lodhi Graphic by Coverage of the COVID-19 pandemic , criminal justice and immigration .\n",
      "RICHMOND , Va. — Stephanie Parris was finishing a two-year prison sentence for a probation violation when she heard she ’ d be going home three weeks early because of COVID-19 .\n",
      "It made her feel bad to leave when she had so few days left at the Fluvanna Correctional Center for Women . She said she wasn ’ t sick , and , as far as she knew , there were no cases at the facility . There were others still inside who could have used the reprieve .\n",
      "`` I would have helped someone who had nine or 10 months , someone who absolutely needed it , ” she said recently . “ There was a lady in there who was very elderly , and she has very bad health problems . I would have given my place to her . ”\n",
      "This article was published in partnership with The Associated Press\n",
      "There has been a major drop in the number of people behind bars in the U.S . Between March and June , more than 100,000 people were released from state and federal prisons , a decrease of 8 percent , according to a nationwide analysis by ███ and The Associated Press . The drops range from 2 percent in Virginia to 32 percent in Rhode Island . By comparison , the state and federal prison population decreased by 2.2 percent in all of 2019 , according to a report on prison populations by the Vera Institute of Justice .\n",
      "But this year ’ s decrease has not come because of efforts to release vulnerable prisoners for health reasons and to manage the spread of the virus raging in prisons , according to detailed data from eight states compiled by ███ and AP . Instead , head counts have dropped largely because prisons stopped accepting new prisoners from county jails to avoid importing the virus , court closures meant fewer people were receiving sentences and parole officers sent fewer people back inside for low-level violations , according to data and experts . So the number could rise again once those wheels begin moving despite the virus .\n",
      "In Virginia , about 250 prisoners were released as corrections officials scrambled to minimize the spread of the virus , accounting for less than half of the decrease in population in that state between March and June , the news organizations found .\n",
      "COVID-19 impacts prison populations nationwide The number of people in state and federal prisons dropped from roughly 1.3 million in March to 1.2 million in June . The 8 percent decrease nationwide is largely due to prohibitions stopping new prisoners from being accepted from local jails , parole officers sending fewer people back to prison for low-level violations , and court closures due to coronavirus leading to fewer people being sentenced , experts said . STATE JUNE POP . PERCENT DECREASE : MARCH - JUNE Rhode-Island 1,619 32 % Connecticut 7,080 22 % North Dakota 1,247 18 % West Virginia 4,898 18 % Vermont 1,068 16 % Delaware 3,479 14 % Illinois 31,945 14 % Maine 1,828 14 % Colorado 15,251 12 % Montana 3,962 12 % New York 38,723 12 % Iowa 7,600 11 % Massachusetts 7,125 11 % Utah 5,813 11 % Mississippi 15,857 10 % New Jersey 16,613 10 % Federal 154,707 10 % Nevada 11,231 9 % North Carolina 31,485 9 % South Dakota 3,513 9 % Texas 127,200 9 % Idaho 7,188 8 % New Hampshire 2,283 8 % Oklahoma 22,856 8 % Alabama 19,562 7 % California 109,800 7 % Kansas 9,091 7 % Kentucky 11,272 7 % Missouri 24,000 7 % Tennessee 20,079 7 % Washington 16,084 7 % Wisconsin 21,603 7 % Wyoming 2,001 7 % Arkansas 16,473 6 % Florida 88,305 6 % Michigan 35,798 6 % Pennsylvania 41,759 6 % Georgia 51,986 5 % Minnesota 8,335 5 % Nebraska 5,400 5 % Ohio 46,212 5 % South Carolina 17,188 5 % Hawaii 1,553 4 % Indiana 25,876 4 % New Mexico 6,328 4 % Arizona 40,547 3 % Louisiana 14,623 3 % Oregon 14,055 3 % Virginia 28,595 2 % ALL STATES ↓\n",
      "Source : Marshall Project and Associated Press analysis of state and federal prison agency data Alaska and Maryland did not provide data . In states with unified jail and prison systems—Connecticut , Vermont , Delaware , Hawaii and Rhode Island—pre-trial detainees are not included in population counts .\n",
      "In California , Gov . Gavin Newsom last week ordered the release of up to 8,000 people by the end of August after a series of coronavirus outbreaks in the state ’ s prisons . Between mid-March and mid-June , California ’ s prison population dropped by more than 7,000 , less than half of which can be attributed to an earlier decision by the state to let vulnerable prisoners out early .\n",
      "More than 57,000 prisoners have tested positive for the coronavirus in facilities across the country since the outbreak began . Of those , at least 34,000 have recovered , and at least 651 have died , the data showed . Over 12,400 infections have been reported among staff , including 46 deaths .\n",
      "Experts and advocates said whether the public perceives a public safety threat from people who are released early because of COVID-19 is likely to affect the larger criminal justice reform movement , especially the push to decrease prison populations .\n",
      "While many people may be qualified for early releases , very few actually got out . In April , Pennsylvania launched a temporary reprieve program , allowing the state ’ s corrections department to send people home under the condition that they return to finish their sentences once the pandemic passes . The governor ’ s office predicted more than 1,500 would be eligible for release .\n",
      "So far , the state 's corrections department has recommended 1,200 people for reprieves , but the application process is slow and tedious , said Bret Bucklen , the department ’ s research director . Each application needs approval from the governor , the secretary of corrections and the assistant district attorney who oversaw the initial conviction .\n",
      "Nearly three months later , fewer than 160 people have been released through the reprieve program , while Pennsylvania ’ s total prison population dropped by 2,800 .\n",
      "As in Pennsylvania , data from states such as North Carolina , Illinois and New Jersey shows coronavirus releases only account for less than one-third of the decrease in prison population , which suggests something else is driving the drop . According to Martin Horn , professor emeritus at John Jay College of Criminal Justice and a former corrections commissioner for New York City , the pandemic has slowed the entire criminal justice system , which means fewer people are going to prisons .\n",
      "Before the pandemic , parolees were required to meet with their parole officers in person . For the last four months , those meetings have mostly been by phone , and people on parole are under less scrutiny and less likely to be returned to prison for violating the rules right now , Horn said .\n",
      "Even many who have been sentenced for crimes are not being transferred to state prisons . In North Carolina , the courts enacted a two-month moratorium on accepting newly sentenced individuals into prisons . By the time the moratorium was lifted in May , about 1,800 people were in county jails awaiting transfer to state prisons , said John Bull , a spokesman for North Carolina ’ s Department of Public Safety .\n",
      "Whether prison populations rise once the pandemic eases will depend in part on how the public perceives people who are released early now , said Wanda Bertram , spokeswoman for the Prison Policy Initiative , a nonpartisan think tank that focuses on mass incarceration .\n",
      "For example , if people leaving prison have little support and end up homeless , Bertram said she fears they may be more likely to get arrested for things like sleeping on the street , and the community may in turn associate early releases with more crime .\n",
      "Garland King , who will turn 78 in a few weeks , spent 12 years in a North Carolina prison for shooting and killing his son-in-law during an argument . Like many older prisoners , he has mounting medical issues , including asthma and arthritis .\n",
      "King was scheduled to be released in June , but on April 17 he became one of almost 500 prisoners who were let go early for good behavior . Since his wife died two years ago , he needed to find housing and apply for social services . He fretted over everything so much that he barely ate in the days leading to his freedom and nearly had a medical crisis as a result . He eventually found housing through a community health program in Durham , North Carolina .\n",
      "Nazgol Ghandnoosh , a senior research analyst at the Sentencing Project , a group that advocates for sentencing reform , said that while the prison population decreases are a step in the right direction , she is disappointed by the numbers . Even if the COVID-19 release policies work as intended , they might not lower the prison population enough because states often exclude violent offenders from such releases , Ghandnoosh said .\n",
      "“ Even though we are sending too many people to prison and keeping them there too long , and even though research shows people who are older have the highest risk from COVID-19 and the lowest risk of recidivism , we are still not letting them out , ” Ghandnoosh said .\n",
      "Additional reporting by Cary Aspinwall , Keri Blakinger , Jake Bleiberg , Andrew R. Calderón , Maurice Chammah , Andrew DeMillo , Eli Hager , Jamiles Lartey , Nicole Lewis , Humera Lodhi , Colleen Long , Tom Meagher , Joseph Neff , Katie Park , Alysia Santo , Beth Schwartzapfel , Colleen Slevin , Christie Thompson , Abbie VanSickle , Adria Watson , Andrew Welsh-Huggins .\n",
      "ACTUAL LABEL:  1\n",
      "PREDICTED LABEL:  1\n",
      "---\n",
      "\n",
      "ARTICLE:  Rogers on Syria: 'This was a bipartisan failing' . Washington ( CNN ) – Republican Rep. Mike Rogers , chairman of the House Intelligence Committee , argued Sunday that the United States lost all of its leverage in the negotiations over chemical weapons in Syria , giving Russia a win .\n",
      "If Congress had moved more quickly and given the president authorization to strike Syria , things would look more favorable for the U.S. , he said on CNN 's `` State of the Union . ''\n",
      "`` I think ( the president 's ) hand would have been strengthened significantly if Congress would have given him the authority for a surgical strike to degrade ( Syria 's ) chemical weapons use and he look like a commander in chief , '' Rogers said , though he faulted the president for failing to adequately explain why an attack against Syria would be in the United States ' security interests .\n",
      "`` All of that confusion allowed Putin to step in and fill the void . I think that 's a problem , '' he said . `` This was a bipartisan failing . ''\n",
      "On Saturday , the U.S. and Russia reached a deal on a framework that would allow Syria to hand over control of its chemical weapons . The deal , however , does not include a threat of military force should Syria fail to follow through with giving up its stockpiles .\n",
      "That 's a big mistake , Rogers told CNN chief political correspondent Candy Crowley .\n",
      "`` Not one ounce of chemical weapons came off the battlefield , but we 've given up every ounce of our leverage when it comes to trying to solve the broader Syrian problem , because we 've taken away a credible military threat , '' he said .\n",
      "Rogers warned the `` indecisiveness '' of the Obama administration in the past few weeks `` gave the diplomatic advantage '' to Russian President Vladimir Putin .\n",
      "`` They saw it . They stepped in . This is a Russian plan for Russian interests . And we should be very , very concerned , '' he said .\n",
      "Democratic Rep. Adam Schiff of California was less pessimistic about the diplomatic deal , calling it a `` very positive step . ''\n",
      "`` If we step back six or nine months ago and say we would be in a position today where Syria would sign the chemical weapons treaty , where U.S. and Russia would be on the same page in disarming - under U.N. supervision - Syria of all its chemical weapons without a single shot being fired , we would have said this is a phenomenal breakthrough , '' Schiff said on `` State of the Union . ''\n",
      "Schiff acknowledged it 's been an `` ugly '' process and it 's going to be `` tough '' to ensure Syria follows through , but he said it 's `` the best pathway we 've seen in the last couple years . ''\n",
      "On Putin , Schiff downplayed the Russian president 's strategic abilities , saying he 's less like a master chess player and more like `` a lawyer who lost control of his client . ''\n",
      "`` He should have told Assad some time ago , 'Look , you have the military edge on the battlefield now . Do n't screw it up by doing something stupid . ' And what happened here was that I think Russia lost control of the client , '' he said .\n",
      "`` I do think Putin 's playing chess and we 're playing tic-tac-toe , '' he said . `` Think about where he is and what he wanted out of Syria . He got everything he wanted , including taking away the president 's advantage of a guaranteed or at least a credible military strike . … This was a big win for ( Putin ) . ''\n",
      "For his part , President Barack Obama said in an interview that aired Sunday that he 's not so concerned with criticism of his handling of the Syria situation , saying Washington tends to make judgments based on style , rather than substance .\n",
      "`` And so had we rolled out something that was very smooth and disciplined and linear - they would have graded it well , even if it was a disastrous policy , '' he said on ABC 's `` This Week . '' `` We know that , 'cause that 's exactly how they graded the Iraq War - until it ended up … blowing up in our face . ''\n",
      "`` I 'm less concerned about style points , '' he added . `` I 'm much more concerned about getting the policy right . ''\n",
      "Watch State of the Union with Candy Crowley Sundays at 9am ET . For the latest from State of the Union click here .\n",
      "ACTUAL LABEL:  0\n",
      "PREDICTED LABEL:  0\n",
      "---\n",
      "\n",
      "ARTICLE:  Trump's outlook going from bad to worse . ( CNN ) As the White House scans Washington for a bounce-back win after the Obamacare imbroglio , the political forecast is promising only heavy weather .\n",
      "An unappetizing list of looming congressional showdowns , complex , months-long legislative challenges and intractable threats to President Donald Trump 's standing threaten to make the failed health care push look like a small setback .\n",
      "Approaching sagas of a potential government shutdown , raising the debt ceiling and a moment of truth in the Senate over the potential `` nuclear option '' confirmation of Supreme Court pick Neil Gorsuch will severely test the political alacrity of a White House already exposed by the busted bid to repeal Obamacare .\n",
      "The administration is promising aggressive efforts to pass a generational tax reform bill and a bipartisan infrastructure package , though the current Washington environment suggests neither effort will be simple .\n",
      "Throw in the corrosive impact that the thickening cloud of intrigue over Russia 's alleged election meddling is exerting on the White House , and add the challenges posed by the President 's own habit of detonating political explosions that damage his own standing , and it 's tough to predict the administration 's first big political win -- or how much that victory will cost .\n",
      "`` Nobody ever told me that politics was going to be so much fun , '' Trump declared , perhaps ironically , at a White House reception for senators on Tuesday night .\n",
      "The challenges facing the new administration are testing enough . But they appear to be compounded by the unorthodox and inexperienced West Wing staff and organizational chaos .\n",
      "Almost daily , stories seep out of the administration about feuding between top officials and rival centers of power around Trump , including the camp led by political adviser Stephen Bannon and the family inner circle comprising his son-in-law Jared Kushner and his daughter Ivanka Trump , who announced Wednesday she would take an unpaid staff position\n",
      "Still , Washington has a habit of writing off presidencies early on if administrations fail to get a fast start . A genuine effort by the Trump team to learn the lessons of its missteps -- and to follow through with the reboot that its public statements suggest is being contemplated -- could improve the odds of getting big things done .\n",
      "`` It is a very challenging environment but I think these guys have been in office for 60 days or whatever , they have never done it before , '' said Howard Schweitzer , a former Bush administration Treasury official now with Cozen O'Connor Public Strategies . `` If they get smarter , they can turn it around . ''\n",
      "At the top of the list of political messes for the Republican majority and the White House is the possibility of a government shutdown that could occur on an inauspicious date , April 29 , Trump 's 100th day in office\n",
      "Congress must pass and the President must sign a spending bill that authorizes federal funding to succeed a current temporary spending bill , known as a continuing resolution , the current version of which expires on April 28 .\n",
      "The process of framing a bill to do so threatens to expose exactly the same Republican Party fissures between ultra-conservative members and more moderate GOP lawmakers ripped open by the Obamacare duel .\n",
      "It will also be an immediate test of House Speaker Paul Ryan 's diminished authority after he failed to unite his caucus behind an effort to fulfill the one promise -- repealing Obamacare -- that has united his party this entire decade .\n",
      "Ryan admitted himself in the wreckage of the health care battle that the GOP House caucus had proven itself so far unsuited to government and retained many of the characteristics of an opposition party .\n",
      "The key to putting off a government shutdown , and to making progress on other key agenda items relies on Ryan convincing his troops to evolve .\n",
      "`` I do n't want us to become a factionalized majority . I want us to become a unified majority , and that means we 're going to sit down and talk things out until we get there and that 's exactly what we 're doing , '' Ryan said Tuesday .\n",
      "To that end , Ryan made clear that the only appropriate way to defund Planned Parenthood -- a key issue of principle for conservatives -- is on a future bill like health care , rather than on federal funding legislation .\n",
      "Such an approach is designed to ensure that the funding bill does not get weighed down with controversial measures that could delay or kill it .\n",
      "Meanwhile , Arizona Sen. John McCain vowed Tuesday to do everything he could to force lawmakers to increase military spending in the bill , setting up another fault line .\n",
      "JUST WATCHED White House moves on from health care failure Replay More Videos ... MUST WATCH White House moves on from health care failure 02:23\n",
      "Keeping the government running is an obligation -- but Republicans , especially the President , are eager to dispel the unflattering reviews of their performance on Obamacare by moving onto another goal , tax reform .\n",
      "The effort is likely to be even more complicated than health care , given the complexity of the tax code and the vested interests it touches that are vitally important to the outside lobby groups that turn the screws on lawmakers .\n",
      "`` If you think this is complicated and controversial , wait until we get into tax reform , '' Rep. Mario Diaz-Balart , R-Florida , said of the health care process .\n",
      "Tax reform is also going to take time -- and is not therefore the kind of issue that is likely to produce a quick win to turn around a White House rough patch .\n",
      "The complications of tax reform and funding the government are one reason why the White House is looking for a clean win on the confirmation of Gorsuch -- a process that could be completed by the end of next week .\n",
      "Yet even this victory will exert a price . If Senate Majority Leader Mitch McConnell is forced by Democratic opposition to invoke the nuclear option -- changing Senate rules to get around a Senate filibuster for Supreme Court nominees -- poisoned feelings could linger in the chamber for years .\n",
      "Such a step would inflame passions even more in polarized Washington and likely leave Democrats even more resistant to crossing the aisle and working with Trump . Already , there was little incentive to support a struggling GOP President , given his zeal in repealing the Democratic legacy item , Obamacare .\n",
      "JUST WATCHED Poll : Trump approval ratings hit new low Replay More Videos ... MUST WATCH Poll : Trump approval ratings hit new low 01:05\n",
      "Many Democrats are still fuming over what they consider the `` stolen '' nomination of President Barack Obama 's Supreme Court pick Merrick Garland last year . And Trump 's low approval rating -- 36 % in the latest Gallup tracking poll and rock bottom reputation among Democratic voters , means Democrats have little political room to work with Trump even if they wanted to .\n",
      "Trump , however , has reacted to the defeat of health care by predicting that Democrats will be willing to work with him down the road , especially if Obamacare spirals into decline . Ryan , in turn , is using that prospect to warn his own party about the risk of remaining divided .\n",
      "`` What I am worried about is ... that if we do n't do this then he will just go work with Democrats to try and change Obamacare -- that 's hardly a conservative thing , '' Ryan told CBS 's `` This Morning '' Thursday .\n",
      "From its first hours , the administration has been hounded by the question of whether Trump campaign aides cooperated with an alleged Russian effort to influence the presidential election in favor of Trump .\n",
      "Pressure builds week by week , as revelations emerge over meetings between people in Trump 's orbit and Russian officials -- and as the President 's aides and former aides get drawn deeper into congressional probes into the affair .\n",
      "This week , Kushner said he would appear before the committee , after it was revealed he met the head of a Russian development bank closely linked to President Vladimir Putin .\n",
      "While the White House is being accused of trying to knock the House investigation , led by under fire intelligence committee Chairman Devin Nunes , off-track , it faces a greater challenge with a parallel Senate probe .\n",
      "The Republican and Democratic leaders of that effort , Sens . Richard Burr and Mark Warner , appeared together on Wednesday to pledge a complete and organized investigation -- implicitly drawing a contrast with the chaotic effort that has been rocked by mistrust and partisan wrangling in the House .\n",
      "JUST WATCHED Burr on Russia : Saying it does n't make it fact Replay More Videos ... MUST WATCH Burr on Russia : Saying it does n't make it fact 01:23\n",
      "`` It 's important for us at least , and I think for all of us here to remember to not lose sight about what this investigation is about : an outside , foreign adversary effectively sought to hijack our most critical democratic process , the election of a president , '' Warner said on Thursday .\n",
      "`` We 're here to assure you and more importantly , the American people who are watching and listening , that we will get to the bottom of this . ''\n",
      "If those lofty goals are realized , the Russia issue could get even more difficult for the White House , as it searches in vain for low-hanging political fruit following a fraught start to the President 's tenure .\n",
      "ACTUAL LABEL:  0\n",
      "PREDICTED LABEL:  0\n",
      "---\n",
      "\n",
      "ARTICLE:  Rand Paul stakes out libertarian claim in Iowa visit . Des Moines , Iowa ( CNN ) Sen. Rand Paul embraced his libertarian roots in Iowa this weekend , speaking unapologetically about his apprehension about foreign intervention and stoking the fire in one of the libertarian movement 's biggest crusades : auditing the Federal Reserve .\n",
      "In his first trip to Iowa this year , just under a year before the caucuses , the Kentucky Republican and potential presidential candidate ventured into familiar territory , rallying young voters and libertarian-minded supporters who turned out big for his father 's presidential campaigns .\n",
      "Paul found friendly audiences at the end of a stormy week filled with negative headlines over comments he made about vaccinations and swirling controversy involving one of his advisers in Iowa .\n",
      "The crowds this weekend were a marked contrast to the social conservative audience that packed a Des Moines theater two weeks ago to hear 10 hours of speeches from a hoard of other potential candidates at the Iowa Freedom Summit .\n",
      "The Federal Reserve was hardly mentioned at that event , and the rhetoric on war and the fight against ISIS was more forceful and hawkish that the positions Paul took this weekend .\n",
      "Last fall , the senator struggled to communicate his stance on the war against terror . At first he urged restraint against ISIS , but after American journalists were beheaded by the group , Paul began supporting limited action .\n",
      "He eventually , in a committee vote , voted `` no '' to authorizing war against ISIS , saying he felt the bill was too open-ended , and it was a vote he stood proudly by this weekend as he used it to separate himself from his potential competitors .\n",
      "`` You 're going to get a choice on who the nominee is for the Republican Party . You 're going to have nine , 10 , 15 , 20 who are eager to go and want troops on the ground , '' he said at the `` Audit the Fed '' rally Friday , which took place at a winery in Des Moines . `` They want 100,000 troops on the ground . Right now . In all the countries . ''\n",
      "`` I can tell you there will be one loud voice in our party saying , think of the unintended consequence . Think about what we 're going to accomplish and whether it will work before we go to war . ' I promise you that will always be something I take very , very seriously . ''\n",
      "Asked how it feels to be back in Iowa , Rand Paul said `` good '' but that he 's not feeling very well . A photo posted by Ashley Killough ( @ ashkillough ) on Feb 6 , 2015 at 2:10pm PST\n",
      "The theme of `` acting before thinking '' was the way he described the Obama administration 's foreign policy , for which he squarely placed blame on Hillary Clinton , hammering her for supporting military action in Libya and calling for the arming of Syrian rebels .\n",
      "At a Saturday morning event , held at a bar and grill in Marshalltown , Paul acknowledged that he `` begrudgingly '' thinks the United States should intervene in the Middle East to protect American interests , such as the embassy in Baghdad and consulate in Erbil . `` But I do n't want to send 100,000 GIs in . ''\n",
      "That should be left to regional fighters , he said , before launching into a fiery diatribe . `` And do n't get me started about Saudi Arabia . There need to be 20,000 Saudi Arabians fighting that war because they 've been a problem . ''\n",
      "With so many Republican candidates likely to echo each other 's talking points in the next year , Paul has tried to run in his own lane by shaping his libertarian foundation into a selling point that says he 's best poised to expand the Republican base .\n",
      "To stop the `` dismantling of the country , '' Paul said it 's going to take someone with a nontraditional approach .\n",
      "`` It 's not going to take a ho-hum , same-old , same-old , we'll-get-a-Republican-that's-a-little-bit-different-than-the-Democrats . It 's going to take someone who can unite the country . Republican . Democrat . Working class . Business class . Rich . Poor . Black . White . You name it . When our party looks like the rest of America , we 're going to win . ''\n",
      "Rand Paul was asked to sign five baseballs at this meet and greet in Marshalltown , Iowa . A photo posted by Ashley Killough ( @ ashkillough ) on Feb 7 , 2015 at 7:16am PST\n",
      "Rep. Rod Blum , a Republican success story in Iowa who won a largely Democratic district in November , introduced Paul at the Saturday morning event and said he was attracted to Paul 's efforts to broaden the GOP tent , though he stressed in an interview with CNN he would n't be endorsing anyone this early on , if at all .\n",
      "Margaret Meade of Marshalltown , who identifies as a Democrat , said Paul `` might have some success '' attracting voters like her but argued he needs to `` stop saying mean things about Hillary Clinton , '' saying it only turns off those same voters .\n",
      "Later Saturday , Paul popped by by the Iowa State University men 's basketball game in Ames before dropping in at a watch party hosted by College Republicans and Young Americans for Liberty , a group founded by his father , ex-Rep. Ron Paul .\n",
      "`` I think the energy in any political movement is the youth , '' Paul told CNN , explaining why he wanted to kick off his year in Iowa with a libertarian-leaning focus .\n",
      "The senator , however , was dressed in blue -- staying true , he said , to the University of Kentucky , where two of his sons go to school . `` I do have an Iowa State pen on my jacket , but I 'd get in too much trouble if I had an Iowa State shirt on , '' he told the students .\n",
      "Staff from his political committee were at the ready at the watch party , providing students with smartphone covers emblazoned with the logo `` RAND '' and collecting names and contact information .\n",
      "Standing at a podium with a minibar close by , Paul spoke freely about what he considers the dangers of civil forfeiture and the malpractice of the National Security Agency . `` The Bill of Rights is not for the prom queen . The Bill of Rights is n't for the high school quarterback , '' he said . `` The Bill of Rights is for those who are unpopular , for those who want to speak their mind . ''\n",
      "Young people also were prevalent at the `` Audit the Fed '' rally . The Federal Reserve is already audited by a third-party accounting firm arranged through the inspector general and partially by the Government Accountability Office . But Paul reintroduced legislation that would give full auditing power to the GAO and would require regular reports to Congress .\n",
      "Paul was noticeably more comfortable shaking hands and taking pictures with voters than he has been in the past . The first-term senator and ophthalmologist is known for his no-frills , less-than-warm style . But while meeting with students on Saturday , Paul frequently smiled and avoided looking down at his shoes in between photos , as he 's been known to do .\n",
      "At Iowa State University , Rand Paul made sure his aides got this guy 's information . A photo posted by Ashley Killough ( @ ashkillough ) on Feb 7 , 2015 at 1:40pm PST\n",
      "At the restaurant earlier Saturday , he occasionally would ask questions and engage in small talk . Anthony Neutout , who went to both the Marshalltown event and the `` Audit the Fed '' rally , said he liked Paul 's unusual style .\n",
      "`` He 's not a brass polished politician , not a walking mannequin ... A lot of candidates , it 's like they have multiple personality disorder , '' Neutout said . `` Rand is very consistent . ''\n",
      "Still , Paul was more celebrity than Average Joe to some voters . He was asked to sign five baseballs at the Marshalltown event and a copy of Time magazine from when he appeared on the cover back in October .\n",
      "Others were more ardent supporters of Paul . One pair of friends drove from Lake County , Indiana -- a five-hour drive .\n",
      "Paul was courting the very same base this weekend that became the focal point for a damaging story this week by National Journal , which profiled the negative reputation of A.J . Spiker , a Paul adviser who was at the helm when activists in Iowa 's liberty movement took over the state party in 2012 .\n",
      "The report quotes party officials who had strong misgivings about what they described as Spiker 's divisiveness . But Paul defended his adviser and expressed confidence in Spiker 's connections with the liberty movement and Christian conservatives .\n",
      "`` There are always going to be people who have chosen other candidates or who for one reason or another hold a grudge . But I think really with both A.J . and ( Paul 's other Iowa adviser , Steve Grubbs ) there 's a broad reach to a broad swath to the party , '' Paul told the Des Moines Register on Thursday .\n",
      "Paul spent several days trying to clear up comments he made that lent credibility to theories​ that vaccinations cause mental disorders . That , combined with negative attention over how he shushed a female interviewer , sparked a wave of criticism from pundits over whether the senator is ready for prime time .\n",
      "`` Rand Paul is not inspiring a lot of confidence that he his ready for a national campaign , '' said Iowa GOP strategist Tim Albrecht , who works for Dave Kochel , a consultant recently hired by Jeb Bush . `` You can coach a candidate on messaging and how to give a speech but what you can not coach is thick skin . He needs to toughen up and that starts by not talking down to people interviewing him . We 've already got that in the White House . ''\n",
      "But the supporters who showed up at his events this weekend appeared unconcerned with the senator 's recent dust-ups .\n",
      "`` I do n't take one week at a time , '' said Dave McCluskey of West Des Moines . `` I look at the big picture . ''\n",
      "ACTUAL LABEL:  0\n",
      "PREDICTED LABEL:  0\n",
      "---\n",
      "\n",
      "ARTICLE:  WH Officials: Netanyahu 'Spat in Our Face' Over Boehner Invitation  . White House officials angrily denounced Prime Minister Benjamin Netanyahu for responding favorably to House Speaker John Boehner 's invitation to speak before Congress in March , telling the that the prime minister had `` spat '' in President Barack Obama ’ s face . `` There are things you simply don ’ t do . He spat in our face publicly and that ’ s no way to behave . Netanyahu ought to remember that President Obama has a year and a half left to his presidency , and that there will be a price , '' an unnamed senior U.S. official said.U.S . officials said that the `` chickens * * * '' epithet that an anonymous administration official used to describe the Israeli leader several months ago was mild compared to the language used in the White House when officials learned of Netanyahu ’ s planned speech to Congress.When he speaks before Congress in March , Netanyahu is expected to urge lawmakers to impose tougher sanctions on Iran in order to force it to stop its suspect nuclear program , The Times of Israel reported Haaretz reported that last week Obama personally demanded in a telephone conversation with Netanyahu that the Israeli leader tone down his support for new sanctions legislation — a measure Obama has promised to veto.The Washington Post reported that Netanyahu ’ s apparent `` disrespect '' for the U.S. leadership was particularly offensive to Secretary of State John Kerry , who over the past month had made many efforts on Israel ’ s behalf on the world stage . This included dozens of calls to world leaders to convince them to oppose a U.N. Security Council resolution that would have set a time frame for establishment of a Palestinian state . `` The secretary ’ s patience is not infinite , '' a source close to Kerry told the Post . `` The bilateral relationship is unshakable . But playing politics with that relationship could blunt Secretary Kerry ’ s enthusiasm for being Israel ’ s primary defender . `` Meanwhile , Israel 's intelligence chief has denied Kerry 's claim that he contradicted Netanyahu , his boss , by criticizing new sanctions during a January meeting , saying that they would be akin to `` throwing a grenade into the process . `` Mossad chief Tamir Pardo denied saying any such thing during a Jan. 19 meeting with U.S. officials . Instead , the Mossad director said he reiterated that `` firm pressure '' was needed `` to bring about meaningful compromises from the Iranian side . ''\n",
      "ACTUAL LABEL:  2\n",
      "PREDICTED LABEL:  2\n",
      "---\n",
      "\n",
      "ARTICLE:  Jeff Sessions and the Russia connection: what happened and why does it matter? . The House Democratic leader , Nancy Pelosi , has called for the US attorney general to resign over his links to Russia . Will he ?\n",
      "It has been revealed by the Washington Post that Jeff Sessions , the US attorney general , met Russian ambassador Sergey Kislyak on two occasions last year . The first meeting occurred when Kislyak was one of a group of ambassadors to approach Sessions as he was leaving the podium at an event at the Republican National Convention in July . The second incident – in September – was a private meeting held in the then-senator ’ s office . That meeting took place as US intelligence officials were investigating Russian interference in the presidential election .\n",
      "Sessions did not disclose the conversations when asked under oath during his Senate confirmation hearing in early 2017 about possible contacts between Trump ’ s campaign and Moscow .\n",
      "The report raises the question of whether Sessions , the nation ’ s top law enforcement official and a key member of the Trump administration , lied under oath during his confirmation hearing .\n",
      "Trump associates ' links with Russia : what we know so far Read more\n",
      "Intense pressure over the revelations has led him to recuse himself from the FBI ’ s ongoing investigation into the Trump campaign ’ s interactions with Russia , amid accusations that he would face a conflict of interest , and has strengthened calls for a special and fully independent prosecutor to take over the investigation .\n",
      "The FBI director , Jim Comey , is leading the inquiry , and had been reporting to Sessions , who would have had the power to influence the depth of the investigation and decide on whether criminal charges were ultimately brought against any individuals .\n",
      "In a wider sense , the development reopens the debate about Russia ’ s alleged influence over and contacts with Trump officials , just as Trump was basking in the praise of political allies and some pundits for his first address to Congress . Less than a month ago , Michael Flynn , Trump ’ s national security adviser , was fired when it emerged that he had misled the vice-president , Mike Pence , about conversations he had had with Kislyak .\n",
      "Yes . Sessions was a senior member of the Senate armed services committee and his spokeswoman has said that , in that capacity , he had more than 25 conversations with foreign ambassadors . But the Washington Post asked all 26 members of the Senate armed services committee at that time whether they , too , had met with Kislyak . Of the 20 senators who responded , each said they had not had any such meeting .\n",
      "Nancy Pelosi , the House Democratic leader , is in no doubt . “ After lying under oath to Congress about his own communications with the Russians , the attorney general must resign , ” she said .\n",
      "But unnamed White House officials cited by the Washington Post say Sessions did not consider his conversations with Kislyak to be relevant to the questions posed to him in his confirmation hearing and that he did not remember the nature of his discussions with the ambassador .\n",
      "As part of his confirmation , Sessions was also asked in written form whether he had had any contact with “ any part of the Russian government about the 2016 election ” , to which he answered : “ No. ” If Sessions and Kislyak did not discuss the election , that answer would be truthful .\n",
      "Not really . Several other Trump campaign and administration officials have had contacts with Russia , which you can read about here . But Sessions was a controversial appointment because of vehemently denied accusations of racism , not due to any alleged ties to Russia .\n",
      "The Russian ambassador has been paid a lot of attention by US intelligence and FBI officials . According to his official biography , Kislyak has served in the Russian foreign ministry for four decades . He also served as ambassador to Belgium , permanent representative of Russia to Nato , and as deputy foreign minister . He is considered by US intelligence sources to be a top Russian spy-recruiter in Washington , according to CNN , which cited unnamed US officials .\n",
      "There are at least three known investigations into the Trump officials ’ alleged ties and communication with Russia . They are being led by the FBI and the two congressional intelligence committees . Now that Sessions has stepped back from involvement in the FBI investigation , it will probably give the FBI director , James Comey , more freedom to pursue the investigation without the interference or involvement of Sessions , a Trump appointee . It also means that Comey will probably have more freedom to determine what information to release publicly and whether to bring charges against any individual .\n",
      "ACTUAL LABEL:  0\n",
      "PREDICTED LABEL:  0\n",
      "---\n",
      "\n",
      "ARTICLE:  Lawmakers demand 'action' in Syria after intel confirms chemical weapons use . The White House said Friday that more evidence is necessary to confirm the Syrian government used chemical weapons against its people , but if that proves to be true , it would be a `` game changer . ''\n",
      "President Obama addressed the issue in the Oval Office , where he was meeting with Jordan 's King Abdullah II , though he did n't commit to any action yet in Syria .\n",
      "`` I have been very clear publicly , but also privately , that for the Syrian government to utilize chemical weapons on its people crosses a line that will change my calculus on how the United States approaches these issues . This is not an on or off switch . This is an ongoing challenge that all of us have to be concerned about , '' he said .\n",
      "Much talk has been made of Obama 's suggestion that the use of deadly chemical agents could be the `` red line '' for the U.S.to intervene in the two-year-old Syrian war .\n",
      "`` I think that in many ways a line 's been crossed when we see tens of thousands of innocent people killed by a regime , but the use of chemical weapons and the danger that is poses to the international community , to neighbors of Syria , the potential of chemical weapons to get into the hands of terrorists , all of those things add increased urgency to what is already a significant security problem and humanitarian problem in the region , '' Obama told reporters .\n",
      "Earlier Friday , White House spokesman Jay Carney told reporters that the U.S. continues to investigate evidence that the Syrian government has used chemical weapons in its fight against rebels , but he resisted setting a timetable for possible action .\n",
      "“ It has been assessed by our intelligence community with varying degrees of confidence that the Syrian regime has used chemical weapons on a small scale in Syria , specifically the chemical agent sarin , '' Carney said . `` Now we are working to establish credible and corroborated facts to build on this intelligence assessment in order to establish a definitive judgment as to whether or not the president 's red line has been crossed . ”\n",
      "When pressed by reporters , Carney made it clear there is no projected plan. `` I 'm not going to set a timeline , because the facts need to be what drives this investigation , not a deadline , ''\n",
      "Meanwhile , two Syrian officials denied Friday that its government forces had used chemical weapons against opposition forces . A government source told the Associated Press that Syrian President Bashar Assad ’ s army `` did not and will not use chemical weapons even if it had them . ''\n",
      "Sharif Shehadeh , a Syrian lawmaker , also said the Syrian army `` can win the war with traditional weapons '' and has no need for chemical weapons .\n",
      "Carney said President Obama would consider several paths of action if it ’ s determined that Syria used chemical weapons. `` He retains all options to respond to that , all options , '' Carney said . `` Often when people mention all options are on the table , everyone just talks about military force . It 's important to remember that there are options available to a commander in chief in a situation like this that include but are not exclusive to that option . ''\n",
      "Top-ranking lawmakers on both sides of the aisle declared Thursday that the `` red line '' in Syria had been crossed , calling for `` strong '' U.S. and international intervention after administration officials revealed that the intelligence community thinks chemical weapons were used .\n",
      "Sen. Dianne Feinstein , D-Calif. , chairwoman of the Senate intelligence committee , and Sen. John McCain , R-Ariz. , were among those urging swift action .\n",
      "McCain , who has long called for more involvement in Syria , voiced concern that the administration would use `` caveats '' to avoid acting on the new intelligence . He said America 's enemies are paying `` close attention '' to whether the U.S. follows through , as the White House signaled it wanted to see more proof before responding to the new information .\n",
      "`` I worry that the president and the administration will use these caveats as an excuse not to act right away or act at all , '' McCain told ███ . `` The president clearly stated that it was a red line and that it could n't be crossed without the United States taking vigorous action . ''\n",
      "He called for the U.S. to help establish a no-fly zone and `` safe zone '' in Syria , as well as provide weapons to the `` right people . ''\n",
      "Defense Secretary Chuck Hagel first revealed the intelligence assessment , which was detailed in a letter to select members of Congress , while speaking to reporters on a visit to Abu Dhabi . The administration then released those letters , which said U.S. intelligence determined with varying degrees of confidence that `` the Syrian regime has used chemical weapons on a small scale in Syria , specifically the chemical agent sarin . ''\n",
      "Secretary of State John Kerry further confirmed that there were two documented instances of chemical weapons use .\n",
      "The White House , however , stressed that this was not enough to confirm how the nerve gas was released -- though acknowledged it is `` very likely '' to have originated with the regime of Bashar Assad -- and pressed the United Nations for a `` comprehensive '' investigation . The letter from the White House director of the Office of Legislative Affairs to leading members of the Senate Armed Services Committee said the assessment was based in part on `` physiological samples . ''\n",
      "A White House official also urged caution , invoking the Iraq war as an example of why the administration should be absolutely certain before going forward .\n",
      "`` Given our own history with intelligence assessments , including intelligence assessments related to WMD , it 's very important that we are able to establish this with certainty and that we are able to provide information that is airtight ... to underpin all of our decision-making , '' the official said . `` That is , I think , the threshold that is demanded given how serious this issue is . ''\n",
      "A senior U.S. defense official told ███ the Defense Department has been preparing a wide range of contingency plans for military involvement in Syria for the past year . President Obama has seen the plans and is fully aware of those options .\n",
      "The options , according to this official , range from establishing no-fly zones to creating humanitarian zones to launching strikes on chemical weapons sites , select regime leadership and other targets . The official emphasized that no decisions have been made about whether to further involve the U.S. military in Syria and that there are still many questions that need to be answered first .\n",
      "A United Nations spokesman said the chemical weapon findings reinforce the need for U.N. officials to `` be given the requested swift and unfettered access to Syria that it needs to determine whether chemical weapons have indeed been used . ''\n",
      "McCain , speaking to ███ , said in his view the red line `` was crossed . ''\n",
      "Feinstein , an important voice on matters of intelligence and security , also said it is `` clear '' those lines have been crossed and `` action must be taken to prevent larger scale use . ''\n",
      "Sen. Lindsey Graham , R-S.C. , reacting to the reports Thursday , said the `` number one '' goal should be to `` secure the chemical weapons before they fall into the wrong hands . ''\n",
      "`` I think the red line 's been crossed and the question is , now what ? '' Graham said on ███ .\n",
      "Sen. Bob Corker , R-Tenn. , also said in a statement the assessment is `` deeply troubling and , if correct , means that President Obama 's red line has certainly been crossed . ''\n",
      "But Sen. Bill Nelson , D-Fla. , argued that it is not in the United States ' `` best interest '' to go into Syria . `` We can not be absolutely sure about the extent to which Assad 's forces have used chemical weapons , although we know they have them , '' he said in a statement .\n",
      "Asked if this crossed a `` red line '' for the U.S. , Hagel likewise said they are still trying to assess .\n",
      "ACTUAL LABEL:  2\n",
      "PREDICTED LABEL:  2\n",
      "---\n",
      "\n",
      "ARTICLE:  McConnell works to freeze support for Dem campaign finance effort . Senate Majority Leader Mitch McConnell Addison ( Mitch ) Mitchell McConnellGOP senators balk at lengthy impeachment trial Graham : Senate trial 'must expose the whistleblower ' Graham says Schiff should be a witness in Trump impeachment trial MORE ( R-Ky. ) is pulling out all the stops to make sure not a single Republican senator backs the campaign finance and ethics reform bill that House Democrats are set to pass on Friday .\n",
      "McConnell , a longtime opponent of campaign finance reform who battled the late Sen. John McCain John Sidney McCain2020 Democrats make play for veterans ' votes The Memo : Democrats confront prospect of long primary Defending their honor as we hear their testimony MORE ( R-Ariz. ) over the issue , made clear in December that the House proposal would never see floor time in the Senate .\n",
      "He ’ s continued to pummel the legislation , sending a stern warning to any GOP colleague who may be thinking about supporting it .\n",
      "“ This is an issue that I ’ ve dealt with for decades , ” McConnell said at a press conference with Senate and House GOP colleagues on Wednesday . “ This is a terrible proposal , it will not get any floor time in the Senate .\n",
      "“ For myself , I don ’ t see anything in here salvageable , ” he added . “ This is a solution in search of a problem . What it really is is a bill designed to make it more likely Democrats win more often . ”\n",
      "A senior Republican aide described McConnell as making a “ full tilt ” effort to quash the House bill . White House counsel Don McGahn spoke to the Senate GOP conference Wednesday to explain why it would be a mistake for any Republican to support it .\n",
      "Despite the GOP leader ’ s efforts , Senate Democrats feel confident they can pick off some members of his conference .\n",
      "“ There are pieces of it that many senators and House members have been working on for a long time , whether it ’ s making voting easier , whether it ’ s taking the dark money and big money out of politics , or whether it ’ s government ethics , there are a number of senators who have almost identical parts of their bills in this bill , ” Sen. Tom Udall Thomas ( Tom ) Stewart UdallBureau of Land Management staff face relocation or resignation as agency moves west Overnight Energy : EPA watchdog slams agency chief after deputy fails to cooperate in probe | Justices wrestle with reach of Clean Water Act | Bipartisan Senate climate caucus grows Hillicon Valley : Twitter to refuse all political ads | Trump camp blasts 'very dumb ' decision | Ocasio-Cortez hails move | Zuckerberg doubles down on Facebook 's ad policies | GOP senator blocks sweeping election reform bill MORE ( D-N.M. ) said of the House legislation , known as H.R . 1 .\n",
      "Udall plans to introduce a companion Senate bill next week .\n",
      "He says it will be “ very difficult ” for McConnell to keep his GOP conference unified “ based on the history of how Republicans have responded individually to a lot of these issues . ”\n",
      "Two possible swing players in the Senate , Sens . Cory Gardner Cory Scott GardnerTariffs threaten 1.5M jobs : Study This week : House kicks off public phase of impeachment inquiry Progressive veterans group launches campaign labeling Trump as a 'national security threat ' MORE ( R-Colo. ) and Susan Collins Susan Margaret CollinsLawmakers under pressure to pass benefits fix for military families Senate GOP waves Trump off early motion to dismiss impeachment charges GOP senators warn against Trump firing intelligence community official MORE ( R-Maine ) , declined to comment Thursday on the House bill .\n",
      "Udall thinks his GOP colleagues , several of whom face tough reelection races next year , are nervous about the deluge of outside money that is about to pour into their home states .\n",
      "“ The more those dark money numbers grow , the more people see these attacks . If you ’ ve been in a campaign where you ’ ve had tens of millions of dollars spent in dark money against you —you talk to Republican members , and they say this isn ’ t right , ” Udall said .\n",
      "One component of the House bill , the Honest Ads Act , requires social media companies such as Facebook to disclose who is paying for political ads on its platform .\n",
      "That language reflects a bill introduced in the last Congress by Sens . Amy Klobuchar Amy Jean KlobucharHillicon Valley : Federal inquiry opened into Google health data deal | Facebook reports millions of post takedowns | Microsoft shakes up privacy debate | Disney plus tops 10M sign-ups in first day Federal inquiry opened into Google health data deal Google sparks new privacy fears over health care data MORE ( D-Minn. ) and Mark Warner Mark Robert WarnerHillicon Valley : Federal inquiry opened into Google health data deal | Facebook reports millions of post takedowns | Microsoft shakes up privacy debate | Disney plus tops 10M sign-ups in first day Microsoft embraces California law , shaking up privacy debate Google sparks new privacy fears over health care data MORE ( D-Va. ) . It attracted the support of McCain .\n",
      "Another piece of the bill , the Disclose Act , resembles legislation that Sen. Lisa Murkowski Lisa Ann MurkowskiHillicon Valley : Federal inquiry opened into Google health data deal | Facebook reports millions of post takedowns | Microsoft shakes up privacy debate | Disney plus tops 10M sign-ups in first day Senators press FDA tobacco chief on status of vaping ban Federal inquiry opened into Google health data deal MORE ( R-Alaska ) sponsored with Sen. Ron Wyden Ronald ( Ron ) Lee WydenAlcohol industry races to save tax break by year-end deadline GOP senator blasts Dem bills on 'opportunity zones ' Pelosi aide hopeful White House will support drug-pricing bill despite criticism MORE ( D-Ore. ) in 2013 , the Follow the Money Act . It would have required the Federal Election Commission to establish a real-time reporting system for contributions to candidates ' campaigns and independent spending efforts .\n",
      "Murkowksi did not vote when the Disclose Act failed to overcome a 60-vote procedural hurdle in September of 2010 and July of 2012 , but she spoke “ kindly ” about the bill , according to Sen. Sheldon Whitehouse Sheldon WhitehouseDemocratic senators seek documents on Trump 's alleged call for Barr press conference Senate committee advances budget reform plan Bipartisan Enzi-Whitehouse budget bill a very bad fix for deficits MORE ( D-R.I. ) , one of its backers .\n",
      "Asked Thursday if she could support legislation to require more disclosure of donors to independent political spending groups , Murkowski replied , “ I have in the past said that these are issues that are ripe for review . ”\n",
      "“ Is it appropriate for more disclosure , generally , and quicker ? Yes , ” she added .\n",
      "A third component of the House-passed reform bill would attempt to slow the flow of foreign money into elections by cracking down on the use of shell corporations to hide political spending from overseas sources . That idea has support from Senate Judiciary Committee Chairman Lindsey Graham Lindsey Olin GrahamGOP senators balk at lengthy impeachment trial Graham : Senate trial 'must expose the whistleblower ' Graham says Schiff should be a witness in Trump impeachment trial MORE ( R-S.C. ) .\n",
      "“ We ’ re going to have a hearing about how foreign entities , the dark money stuff , ” influence elections , Graham said Thursday .\n",
      "“ It ’ s so easy to set up a corporation in America and funnel money through it to affect a campaign , ” he added , noting that Whitehouse “ has got legislation about making sure that these shell corporations are harder to set up . ”\n",
      "“ It ’ s just a matter of time and it ’ s probably already happened where some foreign entity has used our system against us , ” Graham added .\n",
      "Another key piece of H.R . 1 would support a constitutional amendment to overturn Citizens United v. Federal Election Commission ( FEC ) , the landmark Supreme Court ruling that overturned campaign finance restrictions on corporations and labor unions , enabling outside groups to spend hundreds of millions of dollars to influence federal races .\n",
      "Historically , a constitutional amendment to give Congress authority over campaign finance law without interference from the courts has enjoyed Republican support .\n",
      "McConnell is trying to keep his colleagues in line by arguing that Republicans should use the House bill as ammo against Democrats in the 2020 elections .\n",
      "“ I believe we can actually win elections against people who vote for this turkey , ” he said Wednesday .\n",
      "He highlighted its most controversial elements , such as public financing for presidential and congressional candidates that would have the federal government provide matching funds from voluntary donors .\n",
      "He also cited a proposal to restructure the FEC into a five-member commission that would be controlled by the president ’ s party .\n",
      "McConnell has a long record opposing campaign finance efforts . He took the lead in the Senate opposing the McCain-Feingold campaign reform push of 2001 and 2002 , which resulted in the Bipartisan Campaign Reform Act and banned national political parties from raising and spending unlimited funds known as soft money .\n",
      "He also served as the lead plaintiff in the lawsuit that attempted to overturn that law , McConnell v. FEC , which the Supreme Court upheld in 2003 .\n",
      "The House bill also includes several ethics and election reform components , such as a requirement that the president and vice president disclose years of their tax returns and to enhance election security by requiring the director of national intelligence to report on attempts of foreign interference .\n",
      "ACTUAL LABEL:  1\n",
      "PREDICTED LABEL:  1\n",
      "---\n",
      "\n"
     ]
    }
   ],
   "source": [
    "# Randomly see different test data and their predictions\n",
    "test_docs = [10*i for i in range(10)]\n",
    "for index in test_docs:\n",
    "    print(\"ARTICLE: \", X_test.iloc[index])\n",
    "    print(\"ACTUAL LABEL: \", y_test.iloc[index])\n",
    "    print(\"PREDICTED LABEL: \", class_preds[index])\n",
    "    print(\"---\\n\")"
   ]
  }
 ],
 "metadata": {
  "kernelspec": {
   "display_name": "Python 3 (ipykernel)",
   "language": "python",
   "name": "python3"
  },
  "language_info": {
   "codemirror_mode": {
    "name": "ipython",
    "version": 3
   },
   "file_extension": ".py",
   "mimetype": "text/x-python",
   "name": "python",
   "nbconvert_exporter": "python",
   "pygments_lexer": "ipython3",
   "version": "3.9.19"
  },
  "toc": {
   "base_numbering": 1,
   "nav_menu": {},
   "number_sections": false,
   "sideBar": true,
   "skip_h1_title": false,
   "title_cell": "Table of Contents",
   "title_sidebar": "Contents",
   "toc_cell": false,
   "toc_position": {},
   "toc_section_display": true,
   "toc_window_display": false
  },
  "varInspector": {
   "cols": {
    "lenName": 16,
    "lenType": 16,
    "lenVar": 40
   },
   "kernels_config": {
    "python": {
     "delete_cmd_postfix": "",
     "delete_cmd_prefix": "del ",
     "library": "var_list.py",
     "varRefreshCmd": "print(var_dic_list())"
    },
    "r": {
     "delete_cmd_postfix": ") ",
     "delete_cmd_prefix": "rm(",
     "library": "var_list.r",
     "varRefreshCmd": "cat(var_dic_list()) "
    }
   },
   "types_to_exclude": [
    "module",
    "function",
    "builtin_function_or_method",
    "instance",
    "_Feature"
   ],
   "window_display": false
  }
 },
 "nbformat": 4,
 "nbformat_minor": 4
}
